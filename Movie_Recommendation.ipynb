{
  "nbformat": 4,
  "nbformat_minor": 0,
  "metadata": {
    "colab": {
      "name": "Movie_Recommendation.ipynb",
      "provenance": [],
      "collapsed_sections": []
    },
    "kernelspec": {
      "display_name": "Python 3",
      "name": "python3"
    },
    "language_info": {
      "name": "python"
    }
  },
  "cells": [
    {
      "cell_type": "code",
      "metadata": {
        "colab": {
          "resources": {
            "http://localhost:8080/nbextensions/google.colab/files.js": {
              "data": "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",
              "ok": true,
              "headers": [
                [
                  "content-type",
                  "application/javascript"
                ]
              ],
              "status": 200,
              "status_text": ""
            }
          },
          "base_uri": "https://localhost:8080/",
          "height": 38
        },
        "id": "okbw3kt-oQfQ",
        "outputId": "b6d50b08-481b-4c45-e45e-216e36d1f0ef"
      },
      "source": [
        "from google.colab import files\n",
        "uploaded = files.upload()"
      ],
      "execution_count": null,
      "outputs": [
        {
          "output_type": "display_data",
          "data": {
            "text/html": [
              "\n",
              "     <input type=\"file\" id=\"files-14391189-213f-472c-9b27-cdcc24ee0b54\" name=\"files[]\" multiple disabled\n",
              "        style=\"border:none\" />\n",
              "     <output id=\"result-14391189-213f-472c-9b27-cdcc24ee0b54\">\n",
              "      Upload widget is only available when the cell has been executed in the\n",
              "      current browser session. Please rerun this cell to enable.\n",
              "      </output>\n",
              "      <script src=\"/nbextensions/google.colab/files.js\"></script> "
            ],
            "text/plain": [
              "<IPython.core.display.HTML object>"
            ]
          },
          "metadata": {}
        }
      ]
    },
    {
      "cell_type": "code",
      "metadata": {
        "id": "XKeTErjIp_NN"
      },
      "source": [
        ""
      ],
      "execution_count": null,
      "outputs": []
    },
    {
      "cell_type": "code",
      "metadata": {
        "id": "Ap2beCRWpaAN"
      },
      "source": [
        "import numpy as np\n",
        "import pandas as pd\n",
        "import ast"
      ],
      "execution_count": null,
      "outputs": []
    },
    {
      "cell_type": "code",
      "metadata": {
        "id": "ITo5DazlV6OF"
      },
      "source": [
        "movies=pd.read_csv('tmdb_5000_movies.csv')\n",
        "credits=pd.read_csv('tmdb_5000_credits.csv')"
      ],
      "execution_count": null,
      "outputs": []
    },
    {
      "cell_type": "code",
      "metadata": {
        "colab": {
          "base_uri": "https://localhost:8080/"
        },
        "id": "4xMNt-FXWNhj",
        "outputId": "0bea6760-2db9-461b-a4b4-bc61db3aec53"
      },
      "source": [
        "movies.columns"
      ],
      "execution_count": null,
      "outputs": [
        {
          "output_type": "execute_result",
          "data": {
            "text/plain": [
              "Index(['budget', 'genres', 'homepage', 'id', 'keywords', 'original_language',\n",
              "       'original_title', 'overview', 'popularity', 'production_companies',\n",
              "       'production_countries', 'release_date', 'revenue', 'runtime',\n",
              "       'spoken_languages', 'status', 'tagline', 'title', 'vote_average',\n",
              "       'vote_count'],\n",
              "      dtype='object')"
            ]
          },
          "metadata": {},
          "execution_count": 29
        }
      ]
    },
    {
      "cell_type": "code",
      "metadata": {
        "colab": {
          "base_uri": "https://localhost:8080/"
        },
        "id": "K2ctU9K5WPm1",
        "outputId": "6713ba7c-d37b-45f9-b644-64cd336f31cf"
      },
      "source": [
        "credits.columns"
      ],
      "execution_count": null,
      "outputs": [
        {
          "output_type": "execute_result",
          "data": {
            "text/plain": [
              "Index(['movie_id', 'title', 'cast', 'crew'], dtype='object')"
            ]
          },
          "metadata": {},
          "execution_count": 30
        }
      ]
    },
    {
      "cell_type": "code",
      "metadata": {
        "colab": {
          "base_uri": "https://localhost:8080/"
        },
        "id": "Y24xwHW4WXt4",
        "outputId": "2b2f8bc3-a914-4e44-8612-77d1cbc470e6"
      },
      "source": [
        "credits.head(1)['cast'].values"
      ],
      "execution_count": null,
      "outputs": [
        {
          "output_type": "execute_result",
          "data": {
            "text/plain": [
              "array(['[{\"cast_id\": 242, \"character\": \"Jake Sully\", \"credit_id\": \"5602a8a7c3a3685532001c9a\", \"gender\": 2, \"id\": 65731, \"name\": \"Sam Worthington\", \"order\": 0}, {\"cast_id\": 3, \"character\": \"Neytiri\", \"credit_id\": \"52fe48009251416c750ac9cb\", \"gender\": 1, \"id\": 8691, \"name\": \"Zoe Saldana\", \"order\": 1}, {\"cast_id\": 25, \"character\": \"Dr. Grace Augustine\", \"credit_id\": \"52fe48009251416c750aca39\", \"gender\": 1, \"id\": 10205, \"name\": \"Sigourney Weaver\", \"order\": 2}, {\"cast_id\": 4, \"character\": \"Col. Quaritch\", \"credit_id\": \"52fe48009251416c750ac9cf\", \"gender\": 2, \"id\": 32747, \"name\": \"Stephen Lang\", \"order\": 3}, {\"cast_id\": 5, \"character\": \"Trudy Chacon\", \"credit_id\": \"52fe48009251416c750ac9d3\", \"gender\": 1, \"id\": 17647, \"name\": \"Michelle Rodriguez\", \"order\": 4}, {\"cast_id\": 8, \"character\": \"Selfridge\", \"credit_id\": \"52fe48009251416c750ac9e1\", \"gender\": 2, \"id\": 1771, \"name\": \"Giovanni Ribisi\", \"order\": 5}, {\"cast_id\": 7, \"character\": \"Norm Spellman\", \"credit_id\": \"52fe48009251416c750ac9dd\", \"gender\": 2, \"id\": 59231, \"name\": \"Joel David Moore\", \"order\": 6}, {\"cast_id\": 9, \"character\": \"Moat\", \"credit_id\": \"52fe48009251416c750ac9e5\", \"gender\": 1, \"id\": 30485, \"name\": \"CCH Pounder\", \"order\": 7}, {\"cast_id\": 11, \"character\": \"Eytukan\", \"credit_id\": \"52fe48009251416c750ac9ed\", \"gender\": 2, \"id\": 15853, \"name\": \"Wes Studi\", \"order\": 8}, {\"cast_id\": 10, \"character\": \"Tsu\\'Tey\", \"credit_id\": \"52fe48009251416c750ac9e9\", \"gender\": 2, \"id\": 10964, \"name\": \"Laz Alonso\", \"order\": 9}, {\"cast_id\": 12, \"character\": \"Dr. Max Patel\", \"credit_id\": \"52fe48009251416c750ac9f1\", \"gender\": 2, \"id\": 95697, \"name\": \"Dileep Rao\", \"order\": 10}, {\"cast_id\": 13, \"character\": \"Lyle Wainfleet\", \"credit_id\": \"52fe48009251416c750ac9f5\", \"gender\": 2, \"id\": 98215, \"name\": \"Matt Gerald\", \"order\": 11}, {\"cast_id\": 32, \"character\": \"Private Fike\", \"credit_id\": \"52fe48009251416c750aca5b\", \"gender\": 2, \"id\": 154153, \"name\": \"Sean Anthony Moran\", \"order\": 12}, {\"cast_id\": 33, \"character\": \"Cryo Vault Med Tech\", \"credit_id\": \"52fe48009251416c750aca5f\", \"gender\": 2, \"id\": 397312, \"name\": \"Jason Whyte\", \"order\": 13}, {\"cast_id\": 34, \"character\": \"Venture Star Crew Chief\", \"credit_id\": \"52fe48009251416c750aca63\", \"gender\": 2, \"id\": 42317, \"name\": \"Scott Lawrence\", \"order\": 14}, {\"cast_id\": 35, \"character\": \"Lock Up Trooper\", \"credit_id\": \"52fe48009251416c750aca67\", \"gender\": 2, \"id\": 986734, \"name\": \"Kelly Kilgour\", \"order\": 15}, {\"cast_id\": 36, \"character\": \"Shuttle Pilot\", \"credit_id\": \"52fe48009251416c750aca6b\", \"gender\": 0, \"id\": 1207227, \"name\": \"James Patrick Pitt\", \"order\": 16}, {\"cast_id\": 37, \"character\": \"Shuttle Co-Pilot\", \"credit_id\": \"52fe48009251416c750aca6f\", \"gender\": 0, \"id\": 1180936, \"name\": \"Sean Patrick Murphy\", \"order\": 17}, {\"cast_id\": 38, \"character\": \"Shuttle Crew Chief\", \"credit_id\": \"52fe48009251416c750aca73\", \"gender\": 2, \"id\": 1019578, \"name\": \"Peter Dillon\", \"order\": 18}, {\"cast_id\": 39, \"character\": \"Tractor Operator / Troupe\", \"credit_id\": \"52fe48009251416c750aca77\", \"gender\": 0, \"id\": 91443, \"name\": \"Kevin Dorman\", \"order\": 19}, {\"cast_id\": 40, \"character\": \"Dragon Gunship Pilot\", \"credit_id\": \"52fe48009251416c750aca7b\", \"gender\": 2, \"id\": 173391, \"name\": \"Kelson Henderson\", \"order\": 20}, {\"cast_id\": 41, \"character\": \"Dragon Gunship Gunner\", \"credit_id\": \"52fe48009251416c750aca7f\", \"gender\": 0, \"id\": 1207236, \"name\": \"David Van Horn\", \"order\": 21}, {\"cast_id\": 42, \"character\": \"Dragon Gunship Navigator\", \"credit_id\": \"52fe48009251416c750aca83\", \"gender\": 0, \"id\": 215913, \"name\": \"Jacob Tomuri\", \"order\": 22}, {\"cast_id\": 43, \"character\": \"Suit #1\", \"credit_id\": \"52fe48009251416c750aca87\", \"gender\": 0, \"id\": 143206, \"name\": \"Michael Blain-Rozgay\", \"order\": 23}, {\"cast_id\": 44, \"character\": \"Suit #2\", \"credit_id\": \"52fe48009251416c750aca8b\", \"gender\": 2, \"id\": 169676, \"name\": \"Jon Curry\", \"order\": 24}, {\"cast_id\": 46, \"character\": \"Ambient Room Tech\", \"credit_id\": \"52fe48009251416c750aca8f\", \"gender\": 0, \"id\": 1048610, \"name\": \"Luke Hawker\", \"order\": 25}, {\"cast_id\": 47, \"character\": \"Ambient Room Tech / Troupe\", \"credit_id\": \"52fe48009251416c750aca93\", \"gender\": 0, \"id\": 42288, \"name\": \"Woody Schultz\", \"order\": 26}, {\"cast_id\": 48, \"character\": \"Horse Clan Leader\", \"credit_id\": \"52fe48009251416c750aca97\", \"gender\": 2, \"id\": 68278, \"name\": \"Peter Mensah\", \"order\": 27}, {\"cast_id\": 49, \"character\": \"Link Room Tech\", \"credit_id\": \"52fe48009251416c750aca9b\", \"gender\": 0, \"id\": 1207247, \"name\": \"Sonia Yee\", \"order\": 28}, {\"cast_id\": 50, \"character\": \"Basketball Avatar / Troupe\", \"credit_id\": \"52fe48009251416c750aca9f\", \"gender\": 1, \"id\": 1207248, \"name\": \"Jahnel Curfman\", \"order\": 29}, {\"cast_id\": 51, \"character\": \"Basketball Avatar\", \"credit_id\": \"52fe48009251416c750acaa3\", \"gender\": 0, \"id\": 89714, \"name\": \"Ilram Choi\", \"order\": 30}, {\"cast_id\": 52, \"character\": \"Na\\'vi Child\", \"credit_id\": \"52fe48009251416c750acaa7\", \"gender\": 0, \"id\": 1207249, \"name\": \"Kyla Warren\", \"order\": 31}, {\"cast_id\": 53, \"character\": \"Troupe\", \"credit_id\": \"52fe48009251416c750acaab\", \"gender\": 0, \"id\": 1207250, \"name\": \"Lisa Roumain\", \"order\": 32}, {\"cast_id\": 54, \"character\": \"Troupe\", \"credit_id\": \"52fe48009251416c750acaaf\", \"gender\": 1, \"id\": 83105, \"name\": \"Debra Wilson\", \"order\": 33}, {\"cast_id\": 57, \"character\": \"Troupe\", \"credit_id\": \"52fe48009251416c750acabb\", \"gender\": 0, \"id\": 1207253, \"name\": \"Chris Mala\", \"order\": 34}, {\"cast_id\": 55, \"character\": \"Troupe\", \"credit_id\": \"52fe48009251416c750acab3\", \"gender\": 0, \"id\": 1207251, \"name\": \"Taylor Kibby\", \"order\": 35}, {\"cast_id\": 56, \"character\": \"Troupe\", \"credit_id\": \"52fe48009251416c750acab7\", \"gender\": 0, \"id\": 1207252, \"name\": \"Jodie Landau\", \"order\": 36}, {\"cast_id\": 58, \"character\": \"Troupe\", \"credit_id\": \"52fe48009251416c750acabf\", \"gender\": 0, \"id\": 1207254, \"name\": \"Julie Lamm\", \"order\": 37}, {\"cast_id\": 59, \"character\": \"Troupe\", \"credit_id\": \"52fe48009251416c750acac3\", \"gender\": 0, \"id\": 1207257, \"name\": \"Cullen B. Madden\", \"order\": 38}, {\"cast_id\": 60, \"character\": \"Troupe\", \"credit_id\": \"52fe48009251416c750acac7\", \"gender\": 0, \"id\": 1207259, \"name\": \"Joseph Brady Madden\", \"order\": 39}, {\"cast_id\": 61, \"character\": \"Troupe\", \"credit_id\": \"52fe48009251416c750acacb\", \"gender\": 0, \"id\": 1207262, \"name\": \"Frankie Torres\", \"order\": 40}, {\"cast_id\": 62, \"character\": \"Troupe\", \"credit_id\": \"52fe48009251416c750acacf\", \"gender\": 1, \"id\": 1158600, \"name\": \"Austin Wilson\", \"order\": 41}, {\"cast_id\": 63, \"character\": \"Troupe\", \"credit_id\": \"52fe48019251416c750acad3\", \"gender\": 1, \"id\": 983705, \"name\": \"Sara Wilson\", \"order\": 42}, {\"cast_id\": 64, \"character\": \"Troupe\", \"credit_id\": \"52fe48019251416c750acad7\", \"gender\": 0, \"id\": 1207263, \"name\": \"Tamica Washington-Miller\", \"order\": 43}, {\"cast_id\": 65, \"character\": \"Op Center Staff\", \"credit_id\": \"52fe48019251416c750acadb\", \"gender\": 1, \"id\": 1145098, \"name\": \"Lucy Briant\", \"order\": 44}, {\"cast_id\": 66, \"character\": \"Op Center Staff\", \"credit_id\": \"52fe48019251416c750acadf\", \"gender\": 2, \"id\": 33305, \"name\": \"Nathan Meister\", \"order\": 45}, {\"cast_id\": 67, \"character\": \"Op Center Staff\", \"credit_id\": \"52fe48019251416c750acae3\", \"gender\": 0, \"id\": 1207264, \"name\": \"Gerry Blair\", \"order\": 46}, {\"cast_id\": 68, \"character\": \"Op Center Staff\", \"credit_id\": \"52fe48019251416c750acae7\", \"gender\": 2, \"id\": 33311, \"name\": \"Matthew Chamberlain\", \"order\": 47}, {\"cast_id\": 69, \"character\": \"Op Center Staff\", \"credit_id\": \"52fe48019251416c750acaeb\", \"gender\": 0, \"id\": 1207265, \"name\": \"Paul Yates\", \"order\": 48}, {\"cast_id\": 70, \"character\": \"Op Center Duty Officer\", \"credit_id\": \"52fe48019251416c750acaef\", \"gender\": 0, \"id\": 1207266, \"name\": \"Wray Wilson\", \"order\": 49}, {\"cast_id\": 71, \"character\": \"Op Center Staff\", \"credit_id\": \"52fe48019251416c750acaf3\", \"gender\": 2, \"id\": 54492, \"name\": \"James Gaylyn\", \"order\": 50}, {\"cast_id\": 72, \"character\": \"Dancer\", \"credit_id\": \"52fe48019251416c750acaf7\", \"gender\": 0, \"id\": 1207267, \"name\": \"Melvin Leno Clark III\", \"order\": 51}, {\"cast_id\": 73, \"character\": \"Dancer\", \"credit_id\": \"52fe48019251416c750acafb\", \"gender\": 0, \"id\": 1207268, \"name\": \"Carvon Futrell\", \"order\": 52}, {\"cast_id\": 74, \"character\": \"Dancer\", \"credit_id\": \"52fe48019251416c750acaff\", \"gender\": 0, \"id\": 1207269, \"name\": \"Brandon Jelkes\", \"order\": 53}, {\"cast_id\": 75, \"character\": \"Dancer\", \"credit_id\": \"52fe48019251416c750acb03\", \"gender\": 0, \"id\": 1207270, \"name\": \"Micah Moch\", \"order\": 54}, {\"cast_id\": 76, \"character\": \"Dancer\", \"credit_id\": \"52fe48019251416c750acb07\", \"gender\": 0, \"id\": 1207271, \"name\": \"Hanniyah Muhammad\", \"order\": 55}, {\"cast_id\": 77, \"character\": \"Dancer\", \"credit_id\": \"52fe48019251416c750acb0b\", \"gender\": 0, \"id\": 1207272, \"name\": \"Christopher Nolen\", \"order\": 56}, {\"cast_id\": 78, \"character\": \"Dancer\", \"credit_id\": \"52fe48019251416c750acb0f\", \"gender\": 0, \"id\": 1207273, \"name\": \"Christa Oliver\", \"order\": 57}, {\"cast_id\": 79, \"character\": \"Dancer\", \"credit_id\": \"52fe48019251416c750acb13\", \"gender\": 0, \"id\": 1207274, \"name\": \"April Marie Thomas\", \"order\": 58}, {\"cast_id\": 80, \"character\": \"Dancer\", \"credit_id\": \"52fe48019251416c750acb17\", \"gender\": 0, \"id\": 1207275, \"name\": \"Bravita A. Threatt\", \"order\": 59}, {\"cast_id\": 81, \"character\": \"Mining Chief (uncredited)\", \"credit_id\": \"52fe48019251416c750acb1b\", \"gender\": 0, \"id\": 1207276, \"name\": \"Colin Bleasdale\", \"order\": 60}, {\"cast_id\": 82, \"character\": \"Veteran Miner (uncredited)\", \"credit_id\": \"52fe48019251416c750acb1f\", \"gender\": 0, \"id\": 107969, \"name\": \"Mike Bodnar\", \"order\": 61}, {\"cast_id\": 83, \"character\": \"Richard (uncredited)\", \"credit_id\": \"52fe48019251416c750acb23\", \"gender\": 0, \"id\": 1207278, \"name\": \"Matt Clayton\", \"order\": 62}, {\"cast_id\": 84, \"character\": \"Nav\\'i (uncredited)\", \"credit_id\": \"52fe48019251416c750acb27\", \"gender\": 1, \"id\": 147898, \"name\": \"Nicole Dionne\", \"order\": 63}, {\"cast_id\": 85, \"character\": \"Trooper (uncredited)\", \"credit_id\": \"52fe48019251416c750acb2b\", \"gender\": 0, \"id\": 1207280, \"name\": \"Jamie Harrison\", \"order\": 64}, {\"cast_id\": 86, \"character\": \"Trooper (uncredited)\", \"credit_id\": \"52fe48019251416c750acb2f\", \"gender\": 0, \"id\": 1207281, \"name\": \"Allan Henry\", \"order\": 65}, {\"cast_id\": 87, \"character\": \"Ground Technician (uncredited)\", \"credit_id\": \"52fe48019251416c750acb33\", \"gender\": 2, \"id\": 1207282, \"name\": \"Anthony Ingruber\", \"order\": 66}, {\"cast_id\": 88, \"character\": \"Flight Crew Mechanic (uncredited)\", \"credit_id\": \"52fe48019251416c750acb37\", \"gender\": 0, \"id\": 1207283, \"name\": \"Ashley Jeffery\", \"order\": 67}, {\"cast_id\": 14, \"character\": \"Samson Pilot\", \"credit_id\": \"52fe48009251416c750ac9f9\", \"gender\": 0, \"id\": 98216, \"name\": \"Dean Knowsley\", \"order\": 68}, {\"cast_id\": 89, \"character\": \"Trooper (uncredited)\", \"credit_id\": \"52fe48019251416c750acb3b\", \"gender\": 0, \"id\": 1201399, \"name\": \"Joseph Mika-Hunt\", \"order\": 69}, {\"cast_id\": 90, \"character\": \"Banshee (uncredited)\", \"credit_id\": \"52fe48019251416c750acb3f\", \"gender\": 0, \"id\": 236696, \"name\": \"Terry Notary\", \"order\": 70}, {\"cast_id\": 91, \"character\": \"Soldier (uncredited)\", \"credit_id\": \"52fe48019251416c750acb43\", \"gender\": 0, \"id\": 1207287, \"name\": \"Kai Pantano\", \"order\": 71}, {\"cast_id\": 92, \"character\": \"Blast Technician (uncredited)\", \"credit_id\": \"52fe48019251416c750acb47\", \"gender\": 0, \"id\": 1207288, \"name\": \"Logan Pithyou\", \"order\": 72}, {\"cast_id\": 93, \"character\": \"Vindum Raah (uncredited)\", \"credit_id\": \"52fe48019251416c750acb4b\", \"gender\": 0, \"id\": 1207289, \"name\": \"Stuart Pollock\", \"order\": 73}, {\"cast_id\": 94, \"character\": \"Hero (uncredited)\", \"credit_id\": \"52fe48019251416c750acb4f\", \"gender\": 0, \"id\": 584868, \"name\": \"Raja\", \"order\": 74}, {\"cast_id\": 95, \"character\": \"Ops Centreworker (uncredited)\", \"credit_id\": \"52fe48019251416c750acb53\", \"gender\": 0, \"id\": 1207290, \"name\": \"Gareth Ruck\", \"order\": 75}, {\"cast_id\": 96, \"character\": \"Engineer (uncredited)\", \"credit_id\": \"52fe48019251416c750acb57\", \"gender\": 0, \"id\": 1062463, \"name\": \"Rhian Sheehan\", \"order\": 76}, {\"cast_id\": 97, \"character\": \"Col. Quaritch\\'s Mech Suit (uncredited)\", \"credit_id\": \"52fe48019251416c750acb5b\", \"gender\": 0, \"id\": 60656, \"name\": \"T. J. Storm\", \"order\": 77}, {\"cast_id\": 98, \"character\": \"Female Marine (uncredited)\", \"credit_id\": \"52fe48019251416c750acb5f\", \"gender\": 0, \"id\": 1207291, \"name\": \"Jodie Taylor\", \"order\": 78}, {\"cast_id\": 99, \"character\": \"Ikran Clan Leader (uncredited)\", \"credit_id\": \"52fe48019251416c750acb63\", \"gender\": 1, \"id\": 1186027, \"name\": \"Alicia Vela-Bailey\", \"order\": 79}, {\"cast_id\": 100, \"character\": \"Geologist (uncredited)\", \"credit_id\": \"52fe48019251416c750acb67\", \"gender\": 0, \"id\": 1207292, \"name\": \"Richard Whiteside\", \"order\": 80}, {\"cast_id\": 101, \"character\": \"Na\\'vi (uncredited)\", \"credit_id\": \"52fe48019251416c750acb6b\", \"gender\": 0, \"id\": 103259, \"name\": \"Nikie Zambo\", \"order\": 81}, {\"cast_id\": 102, \"character\": \"Ambient Room Tech / Troupe\", \"credit_id\": \"52fe48019251416c750acb6f\", \"gender\": 1, \"id\": 42286, \"name\": \"Julene Renee\", \"order\": 82}]'],\n",
              "      dtype=object)"
            ]
          },
          "metadata": {},
          "execution_count": 31
        }
      ]
    },
    {
      "cell_type": "code",
      "metadata": {
        "colab": {
          "base_uri": "https://localhost:8080/",
          "height": 912
        },
        "id": "R0cntW3kWjHO",
        "outputId": "d65b0830-a8bd-459c-ebb5-ac46a5859eef"
      },
      "source": [
        "movies.head(500)"
      ],
      "execution_count": null,
      "outputs": [
        {
          "output_type": "execute_result",
          "data": {
            "text/html": [
              "<div>\n",
              "<style scoped>\n",
              "    .dataframe tbody tr th:only-of-type {\n",
              "        vertical-align: middle;\n",
              "    }\n",
              "\n",
              "    .dataframe tbody tr th {\n",
              "        vertical-align: top;\n",
              "    }\n",
              "\n",
              "    .dataframe thead th {\n",
              "        text-align: right;\n",
              "    }\n",
              "</style>\n",
              "<table border=\"1\" class=\"dataframe\">\n",
              "  <thead>\n",
              "    <tr style=\"text-align: right;\">\n",
              "      <th></th>\n",
              "      <th>movie_id</th>\n",
              "      <th>title</th>\n",
              "      <th>overview</th>\n",
              "      <th>genres</th>\n",
              "      <th>keywords</th>\n",
              "      <th>cast</th>\n",
              "      <th>crew</th>\n",
              "      <th>tags</th>\n",
              "    </tr>\n",
              "  </thead>\n",
              "  <tbody>\n",
              "    <tr>\n",
              "      <th>0</th>\n",
              "      <td>19995</td>\n",
              "      <td>Avatar</td>\n",
              "      <td>[In, the, 22nd, century,, a, paraplegic, Marin...</td>\n",
              "      <td>[Action, Adventure, Fantasy, ScienceFiction]</td>\n",
              "      <td>[cultureclash, future, spacewar, spacecolony, ...</td>\n",
              "      <td>[SamWorthington, ZoeSaldana, SigourneyWeaver]</td>\n",
              "      <td>[JamesCameron]</td>\n",
              "      <td>[In, the, 22nd, century,, a, paraplegic, Marin...</td>\n",
              "    </tr>\n",
              "    <tr>\n",
              "      <th>1</th>\n",
              "      <td>285</td>\n",
              "      <td>Pirates of the Caribbean: At World's End</td>\n",
              "      <td>[Captain, Barbossa,, long, believed, to, be, d...</td>\n",
              "      <td>[Adventure, Fantasy, Action]</td>\n",
              "      <td>[ocean, drugabuse, exoticisland, eastindiatrad...</td>\n",
              "      <td>[JohnnyDepp, OrlandoBloom, KeiraKnightley]</td>\n",
              "      <td>[GoreVerbinski]</td>\n",
              "      <td>[Captain, Barbossa,, long, believed, to, be, d...</td>\n",
              "    </tr>\n",
              "    <tr>\n",
              "      <th>2</th>\n",
              "      <td>206647</td>\n",
              "      <td>Spectre</td>\n",
              "      <td>[A, cryptic, message, from, Bond’s, past, send...</td>\n",
              "      <td>[Action, Adventure, Crime]</td>\n",
              "      <td>[spy, basedonnovel, secretagent, sequel, mi6, ...</td>\n",
              "      <td>[DanielCraig, ChristophWaltz, LéaSeydoux]</td>\n",
              "      <td>[SamMendes]</td>\n",
              "      <td>[A, cryptic, message, from, Bond’s, past, send...</td>\n",
              "    </tr>\n",
              "    <tr>\n",
              "      <th>3</th>\n",
              "      <td>49026</td>\n",
              "      <td>The Dark Knight Rises</td>\n",
              "      <td>[Following, the, death, of, District, Attorney...</td>\n",
              "      <td>[Action, Crime, Drama, Thriller]</td>\n",
              "      <td>[dccomics, crimefighter, terrorist, secretiden...</td>\n",
              "      <td>[ChristianBale, MichaelCaine, GaryOldman]</td>\n",
              "      <td>[ChristopherNolan]</td>\n",
              "      <td>[Following, the, death, of, District, Attorney...</td>\n",
              "    </tr>\n",
              "    <tr>\n",
              "      <th>4</th>\n",
              "      <td>49529</td>\n",
              "      <td>John Carter</td>\n",
              "      <td>[John, Carter, is, a, war-weary,, former, mili...</td>\n",
              "      <td>[Action, Adventure, ScienceFiction]</td>\n",
              "      <td>[basedonnovel, mars, medallion, spacetravel, p...</td>\n",
              "      <td>[TaylorKitsch, LynnCollins, SamanthaMorton]</td>\n",
              "      <td>[AndrewStanton]</td>\n",
              "      <td>[John, Carter, is, a, war-weary,, former, mili...</td>\n",
              "    </tr>\n",
              "    <tr>\n",
              "      <th>...</th>\n",
              "      <td>...</td>\n",
              "      <td>...</td>\n",
              "      <td>...</td>\n",
              "      <td>...</td>\n",
              "      <td>...</td>\n",
              "      <td>...</td>\n",
              "      <td>...</td>\n",
              "      <td>...</td>\n",
              "    </tr>\n",
              "    <tr>\n",
              "      <th>495</th>\n",
              "      <td>72545</td>\n",
              "      <td>Journey 2: The Mysterious Island</td>\n",
              "      <td>[Sean, Anderson, partners, with, his, mom's, b...</td>\n",
              "      <td>[Adventure, Action, ScienceFiction]</td>\n",
              "      <td>[mission, mysteriousisland, missingperson, dur...</td>\n",
              "      <td>[DwayneJohnson, JoshHutcherson, KristinDavis]</td>\n",
              "      <td>[BradPeyton]</td>\n",
              "      <td>[Sean, Anderson, partners, with, his, mom's, b...</td>\n",
              "    </tr>\n",
              "    <tr>\n",
              "      <th>496</th>\n",
              "      <td>109451</td>\n",
              "      <td>Cloudy with a Chance of Meatballs 2</td>\n",
              "      <td>[After, the, disastrous, food, storm, in, the,...</td>\n",
              "      <td>[Animation, Family, Comedy]</td>\n",
              "      <td>[inventor, food, scientist]</td>\n",
              "      <td>[BillHader, AnnaFaris, JamesCaan]</td>\n",
              "      <td>[CodyCameron]</td>\n",
              "      <td>[After, the, disastrous, food, storm, in, the,...</td>\n",
              "    </tr>\n",
              "    <tr>\n",
              "      <th>497</th>\n",
              "      <td>9533</td>\n",
              "      <td>Red Dragon</td>\n",
              "      <td>[Former, FBI, Agent, Will, Graham,, who, was, ...</td>\n",
              "      <td>[Crime, Thriller, Horror]</td>\n",
              "      <td>[psychopath, serialkiller, fbiagent]</td>\n",
              "      <td>[AnthonyHopkins, EdwardNorton, RalphFiennes]</td>\n",
              "      <td>[BrettRatner]</td>\n",
              "      <td>[Former, FBI, Agent, Will, Graham,, who, was, ...</td>\n",
              "    </tr>\n",
              "    <tr>\n",
              "      <th>498</th>\n",
              "      <td>2023</td>\n",
              "      <td>Hidalgo</td>\n",
              "      <td>[Set, in, 1890,, this, is, the, story, of, a, ...</td>\n",
              "      <td>[Western, Adventure]</td>\n",
              "      <td>[horserace, horse, racehorse]</td>\n",
              "      <td>[ViggoMortensen, ZuleikhaRobinson, OmarSharif]</td>\n",
              "      <td>[JoeJohnston]</td>\n",
              "      <td>[Set, in, 1890,, this, is, the, story, of, a, ...</td>\n",
              "    </tr>\n",
              "    <tr>\n",
              "      <th>499</th>\n",
              "      <td>71880</td>\n",
              "      <td>Jack and Jill</td>\n",
              "      <td>[Jack, Sadelstein,, a, successful, advertising...</td>\n",
              "      <td>[Comedy]</td>\n",
              "      <td>[duringcreditsstinger]</td>\n",
              "      <td>[AdamSandler, KatieHolmes, AlPacino]</td>\n",
              "      <td>[DennisDugan]</td>\n",
              "      <td>[Jack, Sadelstein,, a, successful, advertising...</td>\n",
              "    </tr>\n",
              "  </tbody>\n",
              "</table>\n",
              "<p>500 rows × 8 columns</p>\n",
              "</div>"
            ],
            "text/plain": [
              "     movie_id  ...                                               tags\n",
              "0       19995  ...  [In, the, 22nd, century,, a, paraplegic, Marin...\n",
              "1         285  ...  [Captain, Barbossa,, long, believed, to, be, d...\n",
              "2      206647  ...  [A, cryptic, message, from, Bond’s, past, send...\n",
              "3       49026  ...  [Following, the, death, of, District, Attorney...\n",
              "4       49529  ...  [John, Carter, is, a, war-weary,, former, mili...\n",
              "..        ...  ...                                                ...\n",
              "495     72545  ...  [Sean, Anderson, partners, with, his, mom's, b...\n",
              "496    109451  ...  [After, the, disastrous, food, storm, in, the,...\n",
              "497      9533  ...  [Former, FBI, Agent, Will, Graham,, who, was, ...\n",
              "498      2023  ...  [Set, in, 1890,, this, is, the, story, of, a, ...\n",
              "499     71880  ...  [Jack, Sadelstein,, a, successful, advertising...\n",
              "\n",
              "[500 rows x 8 columns]"
            ]
          },
          "metadata": {},
          "execution_count": 129
        }
      ]
    },
    {
      "cell_type": "code",
      "metadata": {
        "colab": {
          "base_uri": "https://localhost:8080/"
        },
        "id": "cH5xfuyuWvuh",
        "outputId": "694f77be-7b24-46be-a0c6-329b7dbb02b4"
      },
      "source": [
        "credits.shape"
      ],
      "execution_count": null,
      "outputs": [
        {
          "output_type": "execute_result",
          "data": {
            "text/plain": [
              "(4803, 4)"
            ]
          },
          "metadata": {},
          "execution_count": 33
        }
      ]
    },
    {
      "cell_type": "code",
      "metadata": {
        "id": "-OyBCcXFWzAi"
      },
      "source": [
        "movies=movies.merge(credits,on='title')"
      ],
      "execution_count": null,
      "outputs": []
    },
    {
      "cell_type": "code",
      "metadata": {
        "id": "MZOEAWC_W_Yj"
      },
      "source": [
        "movies=movies[['movie_id','title','overview','genres','keywords','cast','crew']]"
      ],
      "execution_count": null,
      "outputs": []
    },
    {
      "cell_type": "code",
      "metadata": {
        "colab": {
          "base_uri": "https://localhost:8080/"
        },
        "id": "ap6f7i_rXlMg",
        "outputId": "5593b3e5-865b-4c72-b12d-19dbfd4a295b"
      },
      "source": [
        "movies.isnull().sum()"
      ],
      "execution_count": null,
      "outputs": [
        {
          "output_type": "execute_result",
          "data": {
            "text/plain": [
              "movie_id    0\n",
              "title       0\n",
              "overview    3\n",
              "genres      0\n",
              "keywords    0\n",
              "cast        0\n",
              "crew        0\n",
              "dtype: int64"
            ]
          },
          "metadata": {},
          "execution_count": 36
        }
      ]
    },
    {
      "cell_type": "code",
      "metadata": {
        "id": "iLV5USmzYz80"
      },
      "source": [
        "movies.dropna(inplace=True)"
      ],
      "execution_count": null,
      "outputs": []
    },
    {
      "cell_type": "code",
      "metadata": {
        "colab": {
          "base_uri": "https://localhost:8080/"
        },
        "id": "6JGQlWSwY8d8",
        "outputId": "810851b7-9ba9-4597-c475-0cf424716214"
      },
      "source": [
        "movies.isnull().sum()"
      ],
      "execution_count": null,
      "outputs": [
        {
          "output_type": "execute_result",
          "data": {
            "text/plain": [
              "movie_id    0\n",
              "title       0\n",
              "overview    0\n",
              "genres      0\n",
              "keywords    0\n",
              "cast        0\n",
              "crew        0\n",
              "dtype: int64"
            ]
          },
          "metadata": {},
          "execution_count": 38
        }
      ]
    },
    {
      "cell_type": "code",
      "metadata": {
        "colab": {
          "base_uri": "https://localhost:8080/"
        },
        "id": "b8JEkSX9Y-cC",
        "outputId": "0ba7735e-4c39-43f9-a8ef-077d64f2225e"
      },
      "source": [
        "movies.duplicated().sum()"
      ],
      "execution_count": null,
      "outputs": [
        {
          "output_type": "execute_result",
          "data": {
            "text/plain": [
              "0"
            ]
          },
          "metadata": {},
          "execution_count": 39
        }
      ]
    },
    {
      "cell_type": "code",
      "metadata": {
        "colab": {
          "base_uri": "https://localhost:8080/"
        },
        "id": "JZxbH40QZB7B",
        "outputId": "1bf8b646-ffb3-47d1-b836-c56725cc257a"
      },
      "source": [
        "movies.iloc[0]"
      ],
      "execution_count": null,
      "outputs": [
        {
          "output_type": "execute_result",
          "data": {
            "text/plain": [
              "movie_id                                                19995\n",
              "title                                                  Avatar\n",
              "overview    In the 22nd century, a paraplegic Marine is di...\n",
              "genres      [{\"id\": 28, \"name\": \"Action\"}, {\"id\": 12, \"nam...\n",
              "keywords    [{\"id\": 1463, \"name\": \"culture clash\"}, {\"id\":...\n",
              "cast        [{\"cast_id\": 242, \"character\": \"Jake Sully\", \"...\n",
              "crew        [{\"credit_id\": \"52fe48009251416c750aca23\", \"de...\n",
              "Name: 0, dtype: object"
            ]
          },
          "metadata": {},
          "execution_count": 40
        }
      ]
    },
    {
      "cell_type": "code",
      "metadata": {
        "colab": {
          "base_uri": "https://localhost:8080/",
          "height": 52
        },
        "id": "KLsMAhjVZHyl",
        "outputId": "6f441d96-1641-4d06-978e-cbe209ea30f9"
      },
      "source": [
        "movies.iloc[0].genres"
      ],
      "execution_count": null,
      "outputs": [
        {
          "output_type": "execute_result",
          "data": {
            "application/vnd.google.colaboratory.intrinsic+json": {
              "type": "string"
            },
            "text/plain": [
              "'[{\"id\": 28, \"name\": \"Action\"}, {\"id\": 12, \"name\": \"Adventure\"}, {\"id\": 14, \"name\": \"Fantasy\"}, {\"id\": 878, \"name\": \"Science Fiction\"}]'"
            ]
          },
          "metadata": {},
          "execution_count": 41
        }
      ]
    },
    {
      "cell_type": "code",
      "metadata": {
        "id": "k8lr-8_zZOI8"
      },
      "source": [
        "def convert(obj):\n",
        "  L=[]\n",
        "  counter=0\n",
        "  for i in ast.literal_eval(obj):\n",
        "    L.append(i['name'])\n",
        "  return L"
      ],
      "execution_count": null,
      "outputs": []
    },
    {
      "cell_type": "code",
      "metadata": {
        "colab": {
          "base_uri": "https://localhost:8080/",
          "height": 528
        },
        "id": "m79GtpBm8c2B",
        "outputId": "3a906ee4-ecee-427f-e15b-9b3669aecec7"
      },
      "source": [
        "from google.colab import drive\n",
        "drive.mount('/content/drive')"
      ],
      "execution_count": null,
      "outputs": [
        {
          "output_type": "error",
          "ename": "KeyboardInterrupt",
          "evalue": "ignored",
          "traceback": [
            "\u001b[0;31m---------------------------------------------------------------------------\u001b[0m",
            "\u001b[0;31mKeyboardInterrupt\u001b[0m                         Traceback (most recent call last)",
            "\u001b[0;32m/usr/local/lib/python3.7/dist-packages/ipykernel/kernelbase.py\u001b[0m in \u001b[0;36m_input_request\u001b[0;34m(self, prompt, ident, parent, password)\u001b[0m\n\u001b[1;32m    728\u001b[0m             \u001b[0;32mtry\u001b[0m\u001b[0;34m:\u001b[0m\u001b[0;34m\u001b[0m\u001b[0;34m\u001b[0m\u001b[0m\n\u001b[0;32m--> 729\u001b[0;31m                 \u001b[0mident\u001b[0m\u001b[0;34m,\u001b[0m \u001b[0mreply\u001b[0m \u001b[0;34m=\u001b[0m \u001b[0mself\u001b[0m\u001b[0;34m.\u001b[0m\u001b[0msession\u001b[0m\u001b[0;34m.\u001b[0m\u001b[0mrecv\u001b[0m\u001b[0;34m(\u001b[0m\u001b[0mself\u001b[0m\u001b[0;34m.\u001b[0m\u001b[0mstdin_socket\u001b[0m\u001b[0;34m,\u001b[0m \u001b[0;36m0\u001b[0m\u001b[0;34m)\u001b[0m\u001b[0;34m\u001b[0m\u001b[0;34m\u001b[0m\u001b[0m\n\u001b[0m\u001b[1;32m    730\u001b[0m             \u001b[0;32mexcept\u001b[0m \u001b[0mException\u001b[0m\u001b[0;34m:\u001b[0m\u001b[0;34m\u001b[0m\u001b[0;34m\u001b[0m\u001b[0m\n",
            "\u001b[0;32m/usr/local/lib/python3.7/dist-packages/jupyter_client/session.py\u001b[0m in \u001b[0;36mrecv\u001b[0;34m(self, socket, mode, content, copy)\u001b[0m\n\u001b[1;32m    802\u001b[0m         \u001b[0;32mtry\u001b[0m\u001b[0;34m:\u001b[0m\u001b[0;34m\u001b[0m\u001b[0;34m\u001b[0m\u001b[0m\n\u001b[0;32m--> 803\u001b[0;31m             \u001b[0mmsg_list\u001b[0m \u001b[0;34m=\u001b[0m \u001b[0msocket\u001b[0m\u001b[0;34m.\u001b[0m\u001b[0mrecv_multipart\u001b[0m\u001b[0;34m(\u001b[0m\u001b[0mmode\u001b[0m\u001b[0;34m,\u001b[0m \u001b[0mcopy\u001b[0m\u001b[0;34m=\u001b[0m\u001b[0mcopy\u001b[0m\u001b[0;34m)\u001b[0m\u001b[0;34m\u001b[0m\u001b[0;34m\u001b[0m\u001b[0m\n\u001b[0m\u001b[1;32m    804\u001b[0m         \u001b[0;32mexcept\u001b[0m \u001b[0mzmq\u001b[0m\u001b[0;34m.\u001b[0m\u001b[0mZMQError\u001b[0m \u001b[0;32mas\u001b[0m \u001b[0me\u001b[0m\u001b[0;34m:\u001b[0m\u001b[0;34m\u001b[0m\u001b[0;34m\u001b[0m\u001b[0m\n",
            "\u001b[0;32m/usr/local/lib/python3.7/dist-packages/zmq/sugar/socket.py\u001b[0m in \u001b[0;36mrecv_multipart\u001b[0;34m(self, flags, copy, track)\u001b[0m\n\u001b[1;32m    624\u001b[0m         \"\"\"\n\u001b[0;32m--> 625\u001b[0;31m         \u001b[0mparts\u001b[0m \u001b[0;34m=\u001b[0m \u001b[0;34m[\u001b[0m\u001b[0mself\u001b[0m\u001b[0;34m.\u001b[0m\u001b[0mrecv\u001b[0m\u001b[0;34m(\u001b[0m\u001b[0mflags\u001b[0m\u001b[0;34m,\u001b[0m \u001b[0mcopy\u001b[0m\u001b[0;34m=\u001b[0m\u001b[0mcopy\u001b[0m\u001b[0;34m,\u001b[0m \u001b[0mtrack\u001b[0m\u001b[0;34m=\u001b[0m\u001b[0mtrack\u001b[0m\u001b[0;34m)\u001b[0m\u001b[0;34m]\u001b[0m\u001b[0;34m\u001b[0m\u001b[0;34m\u001b[0m\u001b[0m\n\u001b[0m\u001b[1;32m    626\u001b[0m         \u001b[0;31m# have first part already, only loop while more to receive\u001b[0m\u001b[0;34m\u001b[0m\u001b[0;34m\u001b[0m\u001b[0;34m\u001b[0m\u001b[0m\n",
            "\u001b[0;32mzmq/backend/cython/socket.pyx\u001b[0m in \u001b[0;36mzmq.backend.cython.socket.Socket.recv\u001b[0;34m()\u001b[0m\n",
            "\u001b[0;32mzmq/backend/cython/socket.pyx\u001b[0m in \u001b[0;36mzmq.backend.cython.socket.Socket.recv\u001b[0;34m()\u001b[0m\n",
            "\u001b[0;32mzmq/backend/cython/socket.pyx\u001b[0m in \u001b[0;36mzmq.backend.cython.socket._recv_copy\u001b[0;34m()\u001b[0m\n",
            "\u001b[0;32m/usr/local/lib/python3.7/dist-packages/zmq/backend/cython/checkrc.pxd\u001b[0m in \u001b[0;36mzmq.backend.cython.checkrc._check_rc\u001b[0;34m()\u001b[0m\n",
            "\u001b[0;31mKeyboardInterrupt\u001b[0m: ",
            "\nDuring handling of the above exception, another exception occurred:\n",
            "\u001b[0;31mKeyboardInterrupt\u001b[0m                         Traceback (most recent call last)",
            "\u001b[0;32m<ipython-input-17-d5df0069828e>\u001b[0m in \u001b[0;36m<module>\u001b[0;34m()\u001b[0m\n\u001b[1;32m      1\u001b[0m \u001b[0;32mfrom\u001b[0m \u001b[0mgoogle\u001b[0m\u001b[0;34m.\u001b[0m\u001b[0mcolab\u001b[0m \u001b[0;32mimport\u001b[0m \u001b[0mdrive\u001b[0m\u001b[0;34m\u001b[0m\u001b[0;34m\u001b[0m\u001b[0m\n\u001b[0;32m----> 2\u001b[0;31m \u001b[0mdrive\u001b[0m\u001b[0;34m.\u001b[0m\u001b[0mmount\u001b[0m\u001b[0;34m(\u001b[0m\u001b[0;34m'/content/drive'\u001b[0m\u001b[0;34m)\u001b[0m\u001b[0;34m\u001b[0m\u001b[0;34m\u001b[0m\u001b[0m\n\u001b[0m",
            "\u001b[0;32m/usr/local/lib/python3.7/dist-packages/google/colab/drive.py\u001b[0m in \u001b[0;36mmount\u001b[0;34m(mountpoint, force_remount, timeout_ms, use_metadata_server)\u001b[0m\n\u001b[1;32m    111\u001b[0m       \u001b[0mtimeout_ms\u001b[0m\u001b[0;34m=\u001b[0m\u001b[0mtimeout_ms\u001b[0m\u001b[0;34m,\u001b[0m\u001b[0;34m\u001b[0m\u001b[0;34m\u001b[0m\u001b[0m\n\u001b[1;32m    112\u001b[0m       \u001b[0muse_metadata_server\u001b[0m\u001b[0;34m=\u001b[0m\u001b[0muse_metadata_server\u001b[0m\u001b[0;34m,\u001b[0m\u001b[0;34m\u001b[0m\u001b[0;34m\u001b[0m\u001b[0m\n\u001b[0;32m--> 113\u001b[0;31m       ephemeral=ephemeral)\n\u001b[0m\u001b[1;32m    114\u001b[0m \u001b[0;34m\u001b[0m\u001b[0m\n\u001b[1;32m    115\u001b[0m \u001b[0;34m\u001b[0m\u001b[0m\n",
            "\u001b[0;32m/usr/local/lib/python3.7/dist-packages/google/colab/drive.py\u001b[0m in \u001b[0;36m_mount\u001b[0;34m(mountpoint, force_remount, timeout_ms, use_metadata_server, ephemeral)\u001b[0m\n\u001b[1;32m    290\u001b[0m       \u001b[0;32mwith\u001b[0m \u001b[0m_output\u001b[0m\u001b[0;34m.\u001b[0m\u001b[0muse_tags\u001b[0m\u001b[0;34m(\u001b[0m\u001b[0;34m'dfs-auth-dance'\u001b[0m\u001b[0;34m)\u001b[0m\u001b[0;34m:\u001b[0m\u001b[0;34m\u001b[0m\u001b[0;34m\u001b[0m\u001b[0m\n\u001b[1;32m    291\u001b[0m         \u001b[0;32mwith\u001b[0m \u001b[0mopen\u001b[0m\u001b[0;34m(\u001b[0m\u001b[0mfifo\u001b[0m\u001b[0;34m,\u001b[0m \u001b[0;34m'w'\u001b[0m\u001b[0;34m)\u001b[0m \u001b[0;32mas\u001b[0m \u001b[0mfifo_file\u001b[0m\u001b[0;34m:\u001b[0m\u001b[0;34m\u001b[0m\u001b[0;34m\u001b[0m\u001b[0m\n\u001b[0;32m--> 292\u001b[0;31m           \u001b[0mfifo_file\u001b[0m\u001b[0;34m.\u001b[0m\u001b[0mwrite\u001b[0m\u001b[0;34m(\u001b[0m\u001b[0mget_code\u001b[0m\u001b[0;34m(\u001b[0m\u001b[0mauth_prompt\u001b[0m\u001b[0;34m)\u001b[0m \u001b[0;34m+\u001b[0m \u001b[0;34m'\\n'\u001b[0m\u001b[0;34m)\u001b[0m\u001b[0;34m\u001b[0m\u001b[0;34m\u001b[0m\u001b[0m\n\u001b[0m\u001b[1;32m    293\u001b[0m       \u001b[0mwrote_to_fifo\u001b[0m \u001b[0;34m=\u001b[0m \u001b[0;32mTrue\u001b[0m\u001b[0;34m\u001b[0m\u001b[0;34m\u001b[0m\u001b[0m\n\u001b[1;32m    294\u001b[0m     \u001b[0;32melif\u001b[0m \u001b[0mcase\u001b[0m \u001b[0;34m==\u001b[0m \u001b[0;36m5\u001b[0m\u001b[0;34m:\u001b[0m\u001b[0;34m\u001b[0m\u001b[0;34m\u001b[0m\u001b[0m\n",
            "\u001b[0;32m/usr/local/lib/python3.7/dist-packages/ipykernel/kernelbase.py\u001b[0m in \u001b[0;36mraw_input\u001b[0;34m(self, prompt)\u001b[0m\n\u001b[1;32m    702\u001b[0m             \u001b[0mself\u001b[0m\u001b[0;34m.\u001b[0m\u001b[0m_parent_ident\u001b[0m\u001b[0;34m,\u001b[0m\u001b[0;34m\u001b[0m\u001b[0;34m\u001b[0m\u001b[0m\n\u001b[1;32m    703\u001b[0m             \u001b[0mself\u001b[0m\u001b[0;34m.\u001b[0m\u001b[0m_parent_header\u001b[0m\u001b[0;34m,\u001b[0m\u001b[0;34m\u001b[0m\u001b[0;34m\u001b[0m\u001b[0m\n\u001b[0;32m--> 704\u001b[0;31m             \u001b[0mpassword\u001b[0m\u001b[0;34m=\u001b[0m\u001b[0;32mFalse\u001b[0m\u001b[0;34m,\u001b[0m\u001b[0;34m\u001b[0m\u001b[0;34m\u001b[0m\u001b[0m\n\u001b[0m\u001b[1;32m    705\u001b[0m         )\n\u001b[1;32m    706\u001b[0m \u001b[0;34m\u001b[0m\u001b[0m\n",
            "\u001b[0;32m/usr/local/lib/python3.7/dist-packages/ipykernel/kernelbase.py\u001b[0m in \u001b[0;36m_input_request\u001b[0;34m(self, prompt, ident, parent, password)\u001b[0m\n\u001b[1;32m    732\u001b[0m             \u001b[0;32mexcept\u001b[0m \u001b[0mKeyboardInterrupt\u001b[0m\u001b[0;34m:\u001b[0m\u001b[0;34m\u001b[0m\u001b[0;34m\u001b[0m\u001b[0m\n\u001b[1;32m    733\u001b[0m                 \u001b[0;31m# re-raise KeyboardInterrupt, to truncate traceback\u001b[0m\u001b[0;34m\u001b[0m\u001b[0;34m\u001b[0m\u001b[0;34m\u001b[0m\u001b[0m\n\u001b[0;32m--> 734\u001b[0;31m                 \u001b[0;32mraise\u001b[0m \u001b[0mKeyboardInterrupt\u001b[0m\u001b[0;34m\u001b[0m\u001b[0;34m\u001b[0m\u001b[0m\n\u001b[0m\u001b[1;32m    735\u001b[0m             \u001b[0;32melse\u001b[0m\u001b[0;34m:\u001b[0m\u001b[0;34m\u001b[0m\u001b[0;34m\u001b[0m\u001b[0m\n\u001b[1;32m    736\u001b[0m                 \u001b[0;32mbreak\u001b[0m\u001b[0;34m\u001b[0m\u001b[0;34m\u001b[0m\u001b[0m\n",
            "\u001b[0;31mKeyboardInterrupt\u001b[0m: "
          ]
        }
      ]
    },
    {
      "cell_type": "code",
      "metadata": {
        "id": "OTOujSDRZ3OQ"
      },
      "source": [
        "movies['genres']=movies['genres'].apply(convert)\n",
        "movies['keywords']=movies['keywords'].apply(convert)"
      ],
      "execution_count": null,
      "outputs": []
    },
    {
      "cell_type": "code",
      "metadata": {
        "id": "pxgWyCQLZ7Ln"
      },
      "source": [
        "import requests\n",
        "response = requests.get(\"https://firebasestorage.googleapis.com/v0/b/safe-citizen-life.appspot.com/o/9357befc-abe3-4932-a4b4-8e8fe72ea0b01633170120597.jpg?alt=media&token=ccc50e09-4729-4f9a-a3c2-475defbdd729\")\n",
        "\n",
        "file = open(\"sample_image.jpeg\", \"wb\")\n",
        "file.write(response.content)\n",
        "file.close()"
      ],
      "execution_count": null,
      "outputs": []
    },
    {
      "cell_type": "code",
      "metadata": {
        "id": "pdb0HohfSz-1"
      },
      "source": [
        "def convert_crew(obj):\n",
        "  L=[]\n",
        "  counter=0\n",
        "  for i in ast.literal_eval(obj):\n",
        "    if counter!=3:\n",
        "      L.append(i['name'])\n",
        "      counter+=1\n",
        "    else:\n",
        "      break\n",
        "  return L"
      ],
      "execution_count": null,
      "outputs": []
    },
    {
      "cell_type": "markdown",
      "metadata": {
        "id": "xn3LFlj0A65i"
      },
      "source": [
        ""
      ]
    },
    {
      "cell_type": "code",
      "metadata": {
        "id": "uySFTb5zaGkX"
      },
      "source": [
        "movies['cast']=movies['cast'].apply(convert_crew)"
      ],
      "execution_count": null,
      "outputs": []
    },
    {
      "cell_type": "code",
      "metadata": {
        "id": "ffkI1m0nSAgk"
      },
      "source": [
        "def fetch_director(obj):\n",
        "  L=[]\n",
        "  for i in ast.literal_eval(obj):\n",
        "    if i['job'] == 'Director':\n",
        "      L.append(i['name'])\n",
        "      break\n",
        "  return L"
      ],
      "execution_count": null,
      "outputs": []
    },
    {
      "cell_type": "code",
      "metadata": {
        "id": "TcbS-ABfArTc"
      },
      "source": [
        "movies['crew']=movies['crew'].apply(fetch_director)"
      ],
      "execution_count": null,
      "outputs": []
    },
    {
      "cell_type": "code",
      "metadata": {
        "colab": {
          "base_uri": "https://localhost:8080/",
          "height": 97
        },
        "id": "d5Cq9WUaAubR",
        "outputId": "d976eb50-c94f-4133-fe10-7e3e63121d60"
      },
      "source": [
        "movies.head(1)"
      ],
      "execution_count": null,
      "outputs": [
        {
          "output_type": "execute_result",
          "data": {
            "text/html": [
              "<div>\n",
              "<style scoped>\n",
              "    .dataframe tbody tr th:only-of-type {\n",
              "        vertical-align: middle;\n",
              "    }\n",
              "\n",
              "    .dataframe tbody tr th {\n",
              "        vertical-align: top;\n",
              "    }\n",
              "\n",
              "    .dataframe thead th {\n",
              "        text-align: right;\n",
              "    }\n",
              "</style>\n",
              "<table border=\"1\" class=\"dataframe\">\n",
              "  <thead>\n",
              "    <tr style=\"text-align: right;\">\n",
              "      <th></th>\n",
              "      <th>movie_id</th>\n",
              "      <th>title</th>\n",
              "      <th>overview</th>\n",
              "      <th>genres</th>\n",
              "      <th>keywords</th>\n",
              "      <th>cast</th>\n",
              "      <th>crew</th>\n",
              "    </tr>\n",
              "  </thead>\n",
              "  <tbody>\n",
              "    <tr>\n",
              "      <th>0</th>\n",
              "      <td>19995</td>\n",
              "      <td>Avatar</td>\n",
              "      <td>In the 22nd century, a paraplegic Marine is di...</td>\n",
              "      <td>[Action, Adventure, Fantasy, Science Fiction]</td>\n",
              "      <td>[culture clash, future, space war, space colon...</td>\n",
              "      <td>[Sam Worthington, Zoe Saldana, Sigourney Weaver]</td>\n",
              "      <td>[James Cameron]</td>\n",
              "    </tr>\n",
              "  </tbody>\n",
              "</table>\n",
              "</div>"
            ],
            "text/plain": [
              "   movie_id  ...             crew\n",
              "0     19995  ...  [James Cameron]\n",
              "\n",
              "[1 rows x 7 columns]"
            ]
          },
          "metadata": {},
          "execution_count": 48
        }
      ]
    },
    {
      "cell_type": "code",
      "metadata": {
        "id": "ggso_73xBfc2"
      },
      "source": [
        "movies['overview']=movies['overview'].apply(lambda x:x.split())"
      ],
      "execution_count": null,
      "outputs": []
    },
    {
      "cell_type": "code",
      "metadata": {
        "id": "Y6VdPkzeB19a"
      },
      "source": [
        "movies['genres']=movies['genres'].apply(lambda x: [i.replace(\" \",\"\") for i in x])\n",
        "movies['keywords']=movies['keywords'].apply(lambda x: [i.replace(\" \",\"\") for i in x])\n",
        "movies['cast']=movies['cast'].apply(lambda x: [i.replace(\" \",\"\") for i in x])\n",
        "movies['crew']=movies['crew'].apply(lambda x: [i.replace(\" \",\"\") for i in x])"
      ],
      "execution_count": null,
      "outputs": []
    },
    {
      "cell_type": "code",
      "metadata": {
        "colab": {
          "base_uri": "https://localhost:8080/",
          "height": 114
        },
        "id": "B4zkFnfcDaeB",
        "outputId": "8ad93989-bf88-4f0a-b624-f138c079c2e1"
      },
      "source": [
        "movies.head(1)"
      ],
      "execution_count": null,
      "outputs": [
        {
          "output_type": "execute_result",
          "data": {
            "text/html": [
              "<div>\n",
              "<style scoped>\n",
              "    .dataframe tbody tr th:only-of-type {\n",
              "        vertical-align: middle;\n",
              "    }\n",
              "\n",
              "    .dataframe tbody tr th {\n",
              "        vertical-align: top;\n",
              "    }\n",
              "\n",
              "    .dataframe thead th {\n",
              "        text-align: right;\n",
              "    }\n",
              "</style>\n",
              "<table border=\"1\" class=\"dataframe\">\n",
              "  <thead>\n",
              "    <tr style=\"text-align: right;\">\n",
              "      <th></th>\n",
              "      <th>movie_id</th>\n",
              "      <th>title</th>\n",
              "      <th>overview</th>\n",
              "      <th>genres</th>\n",
              "      <th>keywords</th>\n",
              "      <th>cast</th>\n",
              "      <th>crew</th>\n",
              "    </tr>\n",
              "  </thead>\n",
              "  <tbody>\n",
              "    <tr>\n",
              "      <th>0</th>\n",
              "      <td>19995</td>\n",
              "      <td>Avatar</td>\n",
              "      <td>[In, the, 22nd, century,, a, paraplegic, Marin...</td>\n",
              "      <td>[Action, Adventure, Fantasy, ScienceFiction]</td>\n",
              "      <td>[cultureclash, future, spacewar, spacecolony, ...</td>\n",
              "      <td>[SamWorthington, ZoeSaldana, SigourneyWeaver]</td>\n",
              "      <td>[JamesCameron]</td>\n",
              "    </tr>\n",
              "  </tbody>\n",
              "</table>\n",
              "</div>"
            ],
            "text/plain": [
              "   movie_id  ...            crew\n",
              "0     19995  ...  [JamesCameron]\n",
              "\n",
              "[1 rows x 7 columns]"
            ]
          },
          "metadata": {},
          "execution_count": 51
        }
      ]
    },
    {
      "cell_type": "code",
      "metadata": {
        "id": "Kt-DrWiwGUnR"
      },
      "source": [
        "movies['tags']=movies['overview'] + movies['genres'] + movies['keywords'] + movies['cast'] + movies['crew']"
      ],
      "execution_count": null,
      "outputs": []
    },
    {
      "cell_type": "code",
      "metadata": {
        "colab": {
          "base_uri": "https://localhost:8080/",
          "height": 131
        },
        "id": "JLXBxWvAHSTl",
        "outputId": "dcfbfc1d-1573-4c90-b3d7-3cb34b14a40d"
      },
      "source": [
        "movies.head(1)"
      ],
      "execution_count": null,
      "outputs": [
        {
          "output_type": "execute_result",
          "data": {
            "text/html": [
              "<div>\n",
              "<style scoped>\n",
              "    .dataframe tbody tr th:only-of-type {\n",
              "        vertical-align: middle;\n",
              "    }\n",
              "\n",
              "    .dataframe tbody tr th {\n",
              "        vertical-align: top;\n",
              "    }\n",
              "\n",
              "    .dataframe thead th {\n",
              "        text-align: right;\n",
              "    }\n",
              "</style>\n",
              "<table border=\"1\" class=\"dataframe\">\n",
              "  <thead>\n",
              "    <tr style=\"text-align: right;\">\n",
              "      <th></th>\n",
              "      <th>movie_id</th>\n",
              "      <th>title</th>\n",
              "      <th>overview</th>\n",
              "      <th>genres</th>\n",
              "      <th>keywords</th>\n",
              "      <th>cast</th>\n",
              "      <th>crew</th>\n",
              "      <th>tags</th>\n",
              "    </tr>\n",
              "  </thead>\n",
              "  <tbody>\n",
              "    <tr>\n",
              "      <th>0</th>\n",
              "      <td>19995</td>\n",
              "      <td>Avatar</td>\n",
              "      <td>[In, the, 22nd, century,, a, paraplegic, Marin...</td>\n",
              "      <td>[Action, Adventure, Fantasy, ScienceFiction]</td>\n",
              "      <td>[cultureclash, future, spacewar, spacecolony, ...</td>\n",
              "      <td>[SamWorthington, ZoeSaldana, SigourneyWeaver]</td>\n",
              "      <td>[JamesCameron]</td>\n",
              "      <td>[In, the, 22nd, century,, a, paraplegic, Marin...</td>\n",
              "    </tr>\n",
              "  </tbody>\n",
              "</table>\n",
              "</div>"
            ],
            "text/plain": [
              "   movie_id  ...                                               tags\n",
              "0     19995  ...  [In, the, 22nd, century,, a, paraplegic, Marin...\n",
              "\n",
              "[1 rows x 8 columns]"
            ]
          },
          "metadata": {},
          "execution_count": 53
        }
      ]
    },
    {
      "cell_type": "code",
      "metadata": {
        "colab": {
          "base_uri": "https://localhost:8080/",
          "height": 80
        },
        "id": "f2eqtqx0HUzC",
        "outputId": "7b5f97da-f619-404e-92fb-1aec490733da"
      },
      "source": [
        "df=movies[['movie_id','title','tags']]\n",
        "df.head(1)"
      ],
      "execution_count": null,
      "outputs": [
        {
          "output_type": "execute_result",
          "data": {
            "text/html": [
              "<div>\n",
              "<style scoped>\n",
              "    .dataframe tbody tr th:only-of-type {\n",
              "        vertical-align: middle;\n",
              "    }\n",
              "\n",
              "    .dataframe tbody tr th {\n",
              "        vertical-align: top;\n",
              "    }\n",
              "\n",
              "    .dataframe thead th {\n",
              "        text-align: right;\n",
              "    }\n",
              "</style>\n",
              "<table border=\"1\" class=\"dataframe\">\n",
              "  <thead>\n",
              "    <tr style=\"text-align: right;\">\n",
              "      <th></th>\n",
              "      <th>movie_id</th>\n",
              "      <th>title</th>\n",
              "      <th>tags</th>\n",
              "    </tr>\n",
              "  </thead>\n",
              "  <tbody>\n",
              "    <tr>\n",
              "      <th>0</th>\n",
              "      <td>19995</td>\n",
              "      <td>Avatar</td>\n",
              "      <td>[In, the, 22nd, century,, a, paraplegic, Marin...</td>\n",
              "    </tr>\n",
              "  </tbody>\n",
              "</table>\n",
              "</div>"
            ],
            "text/plain": [
              "   movie_id   title                                               tags\n",
              "0     19995  Avatar  [In, the, 22nd, century,, a, paraplegic, Marin..."
            ]
          },
          "metadata": {},
          "execution_count": 54
        }
      ]
    },
    {
      "cell_type": "code",
      "metadata": {
        "colab": {
          "base_uri": "https://localhost:8080/"
        },
        "id": "Fw66pwqLHwaZ",
        "outputId": "8dd3db63-28a1-45dd-8238-4c703d339878"
      },
      "source": [
        "df['tags']=df['tags'].apply(lambda x:\" \".join(x))"
      ],
      "execution_count": null,
      "outputs": [
        {
          "output_type": "stream",
          "name": "stderr",
          "text": [
            "/usr/local/lib/python3.7/dist-packages/ipykernel_launcher.py:1: SettingWithCopyWarning: \n",
            "A value is trying to be set on a copy of a slice from a DataFrame.\n",
            "Try using .loc[row_indexer,col_indexer] = value instead\n",
            "\n",
            "See the caveats in the documentation: https://pandas.pydata.org/pandas-docs/stable/user_guide/indexing.html#returning-a-view-versus-a-copy\n",
            "  \"\"\"Entry point for launching an IPython kernel.\n"
          ]
        }
      ]
    },
    {
      "cell_type": "code",
      "metadata": {
        "colab": {
          "base_uri": "https://localhost:8080/",
          "height": 86
        },
        "id": "RSefBnasIpBA",
        "outputId": "9dca3604-3aa4-4d98-c04b-33c6deccfaa3"
      },
      "source": [
        "df['tags'][0]"
      ],
      "execution_count": null,
      "outputs": [
        {
          "output_type": "execute_result",
          "data": {
            "application/vnd.google.colaboratory.intrinsic+json": {
              "type": "string"
            },
            "text/plain": [
              "'In the 22nd century, a paraplegic Marine is dispatched to the moon Pandora on a unique mission, but becomes torn between following orders and protecting an alien civilization. Action Adventure Fantasy ScienceFiction cultureclash future spacewar spacecolony society spacetravel futuristic romance space alien tribe alienplanet cgi marine soldier battle loveaffair antiwar powerrelations mindandsoul 3d SamWorthington ZoeSaldana SigourneyWeaver JamesCameron'"
            ]
          },
          "metadata": {},
          "execution_count": 59
        }
      ]
    },
    {
      "cell_type": "code",
      "metadata": {
        "colab": {
          "base_uri": "https://localhost:8080/"
        },
        "id": "zUiq387SI-XF",
        "outputId": "efe0835f-eb25-40b0-c0ed-057e72b27ffc"
      },
      "source": [
        "df['tags']=df['tags'].apply(lambda x:x.lower())"
      ],
      "execution_count": null,
      "outputs": [
        {
          "output_type": "stream",
          "name": "stderr",
          "text": [
            "/usr/local/lib/python3.7/dist-packages/ipykernel_launcher.py:1: SettingWithCopyWarning: \n",
            "A value is trying to be set on a copy of a slice from a DataFrame.\n",
            "Try using .loc[row_indexer,col_indexer] = value instead\n",
            "\n",
            "See the caveats in the documentation: https://pandas.pydata.org/pandas-docs/stable/user_guide/indexing.html#returning-a-view-versus-a-copy\n",
            "  \"\"\"Entry point for launching an IPython kernel.\n"
          ]
        }
      ]
    },
    {
      "cell_type": "code",
      "metadata": {
        "colab": {
          "base_uri": "https://localhost:8080/",
          "height": 80
        },
        "id": "MTGNl_DXJLSi",
        "outputId": "77c41755-d8a5-4233-d462-9e3da7605501"
      },
      "source": [
        "df.head(1)"
      ],
      "execution_count": null,
      "outputs": [
        {
          "output_type": "execute_result",
          "data": {
            "text/html": [
              "<div>\n",
              "<style scoped>\n",
              "    .dataframe tbody tr th:only-of-type {\n",
              "        vertical-align: middle;\n",
              "    }\n",
              "\n",
              "    .dataframe tbody tr th {\n",
              "        vertical-align: top;\n",
              "    }\n",
              "\n",
              "    .dataframe thead th {\n",
              "        text-align: right;\n",
              "    }\n",
              "</style>\n",
              "<table border=\"1\" class=\"dataframe\">\n",
              "  <thead>\n",
              "    <tr style=\"text-align: right;\">\n",
              "      <th></th>\n",
              "      <th>movie_id</th>\n",
              "      <th>title</th>\n",
              "      <th>tags</th>\n",
              "    </tr>\n",
              "  </thead>\n",
              "  <tbody>\n",
              "    <tr>\n",
              "      <th>0</th>\n",
              "      <td>19995</td>\n",
              "      <td>Avatar</td>\n",
              "      <td>in the 22nd century, a paraplegic marine is di...</td>\n",
              "    </tr>\n",
              "  </tbody>\n",
              "</table>\n",
              "</div>"
            ],
            "text/plain": [
              "   movie_id   title                                               tags\n",
              "0     19995  Avatar  in the 22nd century, a paraplegic marine is di..."
            ]
          },
          "metadata": {},
          "execution_count": 62
        }
      ]
    },
    {
      "cell_type": "code",
      "metadata": {
        "id": "__oMXeHwN0vz"
      },
      "source": [
        "from nltk.stem.porter import PorterStemmer\n",
        "ps=PorterStemmer()\n",
        "\n",
        "def stem(txt):\n",
        "  y=[]\n",
        "  for i in txt.split():\n",
        "    y.append(ps.stem(i))\n",
        "  return \" \".join(y)"
      ],
      "execution_count": null,
      "outputs": []
    },
    {
      "cell_type": "code",
      "metadata": {
        "colab": {
          "base_uri": "https://localhost:8080/"
        },
        "id": "HIf6yZFpN1ly",
        "outputId": "229c8e95-d78d-47fd-b5b8-ce9f6f4bf668"
      },
      "source": [
        "df['tags']=df['tags'].apply(stem)"
      ],
      "execution_count": null,
      "outputs": [
        {
          "output_type": "stream",
          "name": "stderr",
          "text": [
            "/usr/local/lib/python3.7/dist-packages/ipykernel_launcher.py:1: SettingWithCopyWarning: \n",
            "A value is trying to be set on a copy of a slice from a DataFrame.\n",
            "Try using .loc[row_indexer,col_indexer] = value instead\n",
            "\n",
            "See the caveats in the documentation: https://pandas.pydata.org/pandas-docs/stable/user_guide/indexing.html#returning-a-view-versus-a-copy\n",
            "  \"\"\"Entry point for launching an IPython kernel.\n"
          ]
        }
      ]
    },
    {
      "cell_type": "code",
      "metadata": {
        "id": "r_V6YHZzJRfN"
      },
      "source": [
        "from sklearn.feature_extraction.text import CountVectorizer\n",
        "cv=CountVectorizer(max_features=5000,stop_words=\"english\") "
      ],
      "execution_count": null,
      "outputs": []
    },
    {
      "cell_type": "code",
      "metadata": {
        "colab": {
          "base_uri": "https://localhost:8080/"
        },
        "id": "XCJlER0KKE-g",
        "outputId": "f8eb92ea-798a-4e29-8d71-dbeb3a918abc"
      },
      "source": [
        "vectors=cv.fit_transform(df['tags']).toarray()\n",
        "vectors.shape"
      ],
      "execution_count": null,
      "outputs": [
        {
          "output_type": "execute_result",
          "data": {
            "text/plain": [
              "(4806, 5000)"
            ]
          },
          "metadata": {},
          "execution_count": 87
        }
      ]
    },
    {
      "cell_type": "code",
      "metadata": {
        "colab": {
          "base_uri": "https://localhost:8080/"
        },
        "id": "dhdjaiX8KNwA",
        "outputId": "9f3eaa69-365f-423c-bd3a-36a6b557fbc4"
      },
      "source": [
        "cv.get_feature_names()"
      ],
      "execution_count": null,
      "outputs": [
        {
          "output_type": "execute_result",
          "data": {
            "text/plain": [
              "['000',\n",
              " '007',\n",
              " '10',\n",
              " '100',\n",
              " '11',\n",
              " '12',\n",
              " '13',\n",
              " '14',\n",
              " '15',\n",
              " '16',\n",
              " '17',\n",
              " '17th',\n",
              " '18',\n",
              " '18th',\n",
              " '18thcenturi',\n",
              " '19',\n",
              " '1910',\n",
              " '1920',\n",
              " '1930',\n",
              " '1940',\n",
              " '1944',\n",
              " '1950',\n",
              " '1950s',\n",
              " '1960',\n",
              " '1960s',\n",
              " '1970',\n",
              " '1970s',\n",
              " '1971',\n",
              " '1974',\n",
              " '1976',\n",
              " '1980',\n",
              " '1985',\n",
              " '1990',\n",
              " '1999',\n",
              " '19th',\n",
              " '19thcenturi',\n",
              " '20',\n",
              " '200',\n",
              " '2003',\n",
              " '2009',\n",
              " '20th',\n",
              " '21st',\n",
              " '23',\n",
              " '24',\n",
              " '25',\n",
              " '30',\n",
              " '300',\n",
              " '3d',\n",
              " '40',\n",
              " '50',\n",
              " '500',\n",
              " '60',\n",
              " '70',\n",
              " '80',\n",
              " 'aaron',\n",
              " 'aaroneckhart',\n",
              " 'abandon',\n",
              " 'abduct',\n",
              " 'abigailbreslin',\n",
              " 'abil',\n",
              " 'abl',\n",
              " 'aboard',\n",
              " 'abov',\n",
              " 'abus',\n",
              " 'academ',\n",
              " 'academi',\n",
              " 'accept',\n",
              " 'access',\n",
              " 'accid',\n",
              " 'accident',\n",
              " 'acclaim',\n",
              " 'accompani',\n",
              " 'accomplish',\n",
              " 'account',\n",
              " 'accus',\n",
              " 'ace',\n",
              " 'achiev',\n",
              " 'acquaint',\n",
              " 'act',\n",
              " 'action',\n",
              " 'actionhero',\n",
              " 'activ',\n",
              " 'activist',\n",
              " 'activities',\n",
              " 'actor',\n",
              " 'actress',\n",
              " 'actual',\n",
              " 'ad',\n",
              " 'adam',\n",
              " 'adamsandl',\n",
              " 'adamshankman',\n",
              " 'adapt',\n",
              " 'add',\n",
              " 'addict',\n",
              " 'adjust',\n",
              " 'admir',\n",
              " 'admit',\n",
              " 'adolesc',\n",
              " 'adopt',\n",
              " 'ador',\n",
              " 'adrienbrodi',\n",
              " 'adult',\n",
              " 'adultanim',\n",
              " 'adulteri',\n",
              " 'adulthood',\n",
              " 'advanc',\n",
              " 'adventur',\n",
              " 'adventure',\n",
              " 'adventures',\n",
              " 'advertis',\n",
              " 'advic',\n",
              " 'advis',\n",
              " 'affair',\n",
              " 'affect',\n",
              " 'afghanistan',\n",
              " 'africa',\n",
              " 'african',\n",
              " 'africanamerican',\n",
              " 'aftercreditssting',\n",
              " 'afterlif',\n",
              " 'aftermath',\n",
              " 'ag',\n",
              " 'age',\n",
              " 'agediffer',\n",
              " 'agenc',\n",
              " 'agency',\n",
              " 'agenda',\n",
              " 'agent',\n",
              " 'agents',\n",
              " 'aggress',\n",
              " 'ago',\n",
              " 'agre',\n",
              " 'ahead',\n",
              " 'aid',\n",
              " 'aidanquinn',\n",
              " 'ail',\n",
              " 'aim',\n",
              " 'air',\n",
              " 'airplan',\n",
              " 'airplanecrash',\n",
              " 'airport',\n",
              " 'aka',\n",
              " 'al',\n",
              " 'alabama',\n",
              " 'alan',\n",
              " 'alaska',\n",
              " 'albert',\n",
              " 'alcatraz',\n",
              " 'alcohol',\n",
              " 'alecbaldwin',\n",
              " 'alex',\n",
              " 'alexkendrick',\n",
              " 'alfredhitchcock',\n",
              " 'alfredmolina',\n",
              " 'ali',\n",
              " 'alic',\n",
              " 'alice',\n",
              " 'alien',\n",
              " 'alieninvas',\n",
              " 'alienlife',\n",
              " 'alienplanet',\n",
              " 'aliens',\n",
              " 'alik',\n",
              " 'aliv',\n",
              " 'alive',\n",
              " 'allen',\n",
              " 'alli',\n",
              " 'allianc',\n",
              " 'allow',\n",
              " 'alon',\n",
              " 'alongsid',\n",
              " 'alpacino',\n",
              " 'alpha',\n",
              " 'alreadi',\n",
              " 'alter',\n",
              " 'altern',\n",
              " 'alway',\n",
              " 'alyssa',\n",
              " 'alzheimer',\n",
              " 'amanda',\n",
              " 'amandapeet',\n",
              " 'amandaseyfri',\n",
              " 'amateur',\n",
              " 'amaz',\n",
              " 'amazon',\n",
              " 'ambassador',\n",
              " 'ambit',\n",
              " 'ambiti',\n",
              " 'ambul',\n",
              " 'ambush',\n",
              " 'america',\n",
              " 'american',\n",
              " 'americanabroad',\n",
              " 'americancivilwar',\n",
              " 'americanfootbal',\n",
              " 'americanfootballplay',\n",
              " 'amid',\n",
              " 'amidst',\n",
              " 'amnesia',\n",
              " 'amp',\n",
              " 'amsterdam',\n",
              " 'amus',\n",
              " 'amusementpark',\n",
              " 'amy',\n",
              " 'amyadam',\n",
              " 'amysmart',\n",
              " 'ana',\n",
              " 'anakin',\n",
              " 'analyst',\n",
              " 'anarchiccomedi',\n",
              " 'ancient',\n",
              " 'ancientrom',\n",
              " 'ancientworld',\n",
              " 'anderson',\n",
              " 'andi',\n",
              " 'andiemacdowel',\n",
              " 'andrew',\n",
              " 'android',\n",
              " 'andy',\n",
              " 'andygarcía',\n",
              " 'angel',\n",
              " 'angela',\n",
              " 'angelabassett',\n",
              " 'angeles',\n",
              " 'angelinajoli',\n",
              " 'anger',\n",
              " 'angle',\n",
              " 'angri',\n",
              " 'ani',\n",
              " 'anim',\n",
              " 'animalattack',\n",
              " 'animalhorror',\n",
              " 'animals',\n",
              " 'anjelicahuston',\n",
              " 'ann',\n",
              " 'anna',\n",
              " 'annafari',\n",
              " 'annakendrick',\n",
              " 'anne',\n",
              " 'annehathaway',\n",
              " 'annemoss',\n",
              " 'annetteben',\n",
              " 'anni',\n",
              " 'annie',\n",
              " 'anniversari',\n",
              " 'announc',\n",
              " 'annual',\n",
              " 'anonym',\n",
              " 'anoth',\n",
              " 'answer',\n",
              " 'ant',\n",
              " 'antholog',\n",
              " 'anthoni',\n",
              " 'anthonyanderson',\n",
              " 'anthonyhopkin',\n",
              " 'anthropomorph',\n",
              " 'anti',\n",
              " 'antic',\n",
              " 'antihero',\n",
              " 'antiqu',\n",
              " 'antoinefuqua',\n",
              " 'antoniobandera',\n",
              " 'antonyelchin',\n",
              " 'anyon',\n",
              " 'anyth',\n",
              " 'apart',\n",
              " 'apartheid',\n",
              " 'apartment',\n",
              " 'ape',\n",
              " 'apocalyps',\n",
              " 'apocalypse',\n",
              " 'apocalypt',\n",
              " 'appar',\n",
              " 'appear',\n",
              " 'appl',\n",
              " 'apple',\n",
              " 'appoint',\n",
              " 'appreci',\n",
              " 'apprentic',\n",
              " 'approach',\n",
              " 'april',\n",
              " 'aquarium',\n",
              " 'arab',\n",
              " 'arch',\n",
              " 'archaeologist',\n",
              " 'archeolog',\n",
              " 'archer',\n",
              " 'architect',\n",
              " 'arctic',\n",
              " 'area',\n",
              " 'aren',\n",
              " 'arena',\n",
              " 'argument',\n",
              " 'aris',\n",
              " 'aristocrat',\n",
              " 'arm',\n",
              " 'armi',\n",
              " 'armor',\n",
              " 'armsdeal',\n",
              " 'army',\n",
              " 'arnold',\n",
              " 'arnoldschwarzenegg',\n",
              " 'arrang',\n",
              " 'arrangedmarriag',\n",
              " 'arrest',\n",
              " 'arriv',\n",
              " 'arrog',\n",
              " 'art',\n",
              " 'arthur',\n",
              " 'artifact',\n",
              " 'artifici',\n",
              " 'artificialintellig',\n",
              " 'artist',\n",
              " 'ash',\n",
              " 'ashley',\n",
              " 'ashleyjudd',\n",
              " 'ashtonkutch',\n",
              " 'asia',\n",
              " 'asian',\n",
              " 'asid',\n",
              " 'ask',\n",
              " 'aspect',\n",
              " 'aspir',\n",
              " 'assassin',\n",
              " 'assault',\n",
              " 'assembl',\n",
              " 'assign',\n",
              " 'assist',\n",
              " 'assistant',\n",
              " 'associ',\n",
              " 'assum',\n",
              " 'asteroid',\n",
              " 'astronaut',\n",
              " 'asylum',\n",
              " 'atheist',\n",
              " 'athlet',\n",
              " 'atom',\n",
              " 'atomicbomb',\n",
              " 'attack',\n",
              " 'attacks',\n",
              " 'attempt',\n",
              " 'attend',\n",
              " 'attent',\n",
              " 'attic',\n",
              " 'attitud',\n",
              " 'attorney',\n",
              " 'attract',\n",
              " 'auction',\n",
              " 'audienc',\n",
              " 'audit',\n",
              " 'august',\n",
              " 'aunt',\n",
              " 'austin',\n",
              " 'australia',\n",
              " 'australian',\n",
              " 'author',\n",
              " 'autism',\n",
              " 'auto',\n",
              " 'automobilerac',\n",
              " 'aveng',\n",
              " 'averag',\n",
              " 'avoid',\n",
              " 'await',\n",
              " 'awak',\n",
              " 'awaken',\n",
              " 'awar',\n",
              " 'award',\n",
              " 'away',\n",
              " 'awkward',\n",
              " 'awri',\n",
              " 'awry',\n",
              " 'ax',\n",
              " 'babe',\n",
              " 'babi',\n",
              " 'baby',\n",
              " 'bachelor',\n",
              " 'backdrop',\n",
              " 'background',\n",
              " 'backpack',\n",
              " 'bad',\n",
              " 'bag',\n",
              " 'bahama',\n",
              " 'bail',\n",
              " 'balanc',\n",
              " 'ball',\n",
              " 'ballet',\n",
              " 'balloon',\n",
              " 'baltimor',\n",
              " 'ban',\n",
              " 'band',\n",
              " 'bandit',\n",
              " 'bangkok',\n",
              " 'banish',\n",
              " 'bank',\n",
              " 'banker',\n",
              " 'bankrobb',\n",
              " 'bankrobberi',\n",
              " 'bar',\n",
              " 'barbrastreisand',\n",
              " 'bare',\n",
              " 'bargain',\n",
              " 'barn',\n",
              " 'barney',\n",
              " 'baron',\n",
              " 'barri',\n",
              " 'barrylevinson',\n",
              " 'barrysonnenfeld',\n",
              " 'bas',\n",
              " 'base',\n",
              " 'basebal',\n",
              " 'basedoncomicbook',\n",
              " 'basedongraphicnovel',\n",
              " 'basedonnovel',\n",
              " 'basedonplay',\n",
              " 'basedonstagemus',\n",
              " 'basedontrueev',\n",
              " 'basedontruestori',\n",
              " 'basedontvseri',\n",
              " 'basedonvideogam',\n",
              " 'basedonyoungadultnovel',\n",
              " 'basement',\n",
              " 'basketbal',\n",
              " 'basketball',\n",
              " 'bat',\n",
              " 'batman',\n",
              " 'battl',\n",
              " 'battle',\n",
              " 'battlefield',\n",
              " 'bay',\n",
              " 'beach',\n",
              " 'beam',\n",
              " 'bear',\n",
              " 'beard',\n",
              " 'beast',\n",
              " 'beat',\n",
              " 'beauti',\n",
              " 'beautiful',\n",
              " 'beautifulwoman',\n",
              " 'beauty',\n",
              " 'becam',\n",
              " 'becaus',\n",
              " 'becki',\n",
              " 'becom',\n",
              " 'becominganadult',\n",
              " 'bed',\n",
              " 'bedroom',\n",
              " 'bee',\n",
              " 'beer',\n",
              " 'befor',\n",
              " 'befriend',\n",
              " 'began',\n",
              " 'begin',\n",
              " 'begins',\n",
              " 'behavior',\n",
              " 'belief',\n",
              " 'believ',\n",
              " 'bell',\n",
              " 'bella',\n",
              " 'belong',\n",
              " 'belov',\n",
              " 'ben',\n",
              " 'benaffleck',\n",
              " 'bend',\n",
              " 'beneath',\n",
              " 'benefit',\n",
              " 'benfost',\n",
              " 'beniciodeltoro',\n",
              " 'benjamin',\n",
              " 'benjaminbratt',\n",
              " 'benkingsley',\n",
              " 'bennett',\n",
              " 'benstil',\n",
              " 'bent',\n",
              " 'berlin',\n",
              " 'best',\n",
              " 'bestfriend',\n",
              " 'bestfriendsinlov',\n",
              " 'bet',\n",
              " 'beth',\n",
              " 'betray',\n",
              " 'bettemidl',\n",
              " 'better',\n",
              " 'betti',\n",
              " 'beverli',\n",
              " 'bibl',\n",
              " 'bid',\n",
              " 'big',\n",
              " 'bigger',\n",
              " 'biggest',\n",
              " 'bike',\n",
              " 'biker',\n",
              " 'bikini',\n",
              " 'billhad',\n",
              " 'billi',\n",
              " 'billionair',\n",
              " 'billmurray',\n",
              " 'billnighi',\n",
              " 'billpaxton',\n",
              " 'billpullman',\n",
              " 'billybobthornton',\n",
              " 'billycrudup',\n",
              " 'billycryst',\n",
              " 'biographi',\n",
              " 'biolog',\n",
              " 'bird',\n",
              " 'birth',\n",
              " 'birthday',\n",
              " 'bisexu',\n",
              " 'bishop',\n",
              " 'bit',\n",
              " 'bite',\n",
              " 'bitter',\n",
              " 'bizarr',\n",
              " 'black',\n",
              " 'blackmag',\n",
              " 'blackmail',\n",
              " 'blackpeopl',\n",
              " 'blacksmith',\n",
              " 'blade',\n",
              " 'blame',\n",
              " 'blend',\n",
              " 'blind',\n",
              " 'bliss',\n",
              " 'blizzard',\n",
              " 'block',\n",
              " 'blond',\n",
              " 'blood',\n",
              " 'bloodi',\n",
              " 'bloodsplatt',\n",
              " 'bloodthirsti',\n",
              " 'blow',\n",
              " 'blue',\n",
              " 'board',\n",
              " 'boardingschool',\n",
              " 'boat',\n",
              " 'bob',\n",
              " 'bobbi',\n",
              " 'bobbyfarrelli',\n",
              " 'bobhoskin',\n",
              " 'bodi',\n",
              " 'body',\n",
              " 'bodyguard',\n",
              " 'bold',\n",
              " 'bollywood',\n",
              " 'bomb',\n",
              " 'bond',\n",
              " 'bone',\n",
              " 'book',\n",
              " 'border',\n",
              " 'bore',\n",
              " 'boredom',\n",
              " 'born',\n",
              " 'boss',\n",
              " 'boston',\n",
              " 'botch',\n",
              " 'bound',\n",
              " 'boundari',\n",
              " 'bounti',\n",
              " 'bountyhunt',\n",
              " 'bout',\n",
              " 'box',\n",
              " 'boxer',\n",
              " 'boy',\n",
              " 'boyfriend',\n",
              " 'boys',\n",
              " 'bradleycoop',\n",
              " 'bradpitt',\n",
              " 'brain',\n",
              " 'brainwash',\n",
              " 'brand',\n",
              " 'brandon',\n",
              " 'brave',\n",
              " 'braveri',\n",
              " 'brazil',\n",
              " 'brazilian',\n",
              " 'break',\n",
              " 'breakdown',\n",
              " 'breast',\n",
              " 'breath',\n",
              " 'breed',\n",
              " 'brendanfras',\n",
              " 'brendangleeson',\n",
              " 'brent',\n",
              " 'brettratn',\n",
              " 'brian',\n",
              " 'briandepalma',\n",
              " 'bride',\n",
              " 'bridesmaid',\n",
              " 'bridg',\n",
              " 'brief',\n",
              " 'brielarson',\n",
              " 'brien',\n",
              " 'bright',\n",
              " 'brilliant',\n",
              " 'bring',\n",
              " 'brink',\n",
              " 'britain',\n",
              " 'british',\n",
              " 'britishsecretservic',\n",
              " 'brittanymurphi',\n",
              " 'broadcast',\n",
              " 'broadway',\n",
              " 'broke',\n",
              " 'broken',\n",
              " 'broker',\n",
              " 'bronx',\n",
              " 'brook',\n",
              " 'brooklyn',\n",
              " 'broom',\n",
              " 'brothel',\n",
              " 'brother',\n",
              " 'brotherbrotherrelationship',\n",
              " 'brothers',\n",
              " 'brothersisterrelationship',\n",
              " 'brought',\n",
              " 'brown',\n",
              " 'bruce',\n",
              " 'brucegreenwood',\n",
              " 'brucewilli',\n",
              " 'brutal',\n",
              " 'bryansing',\n",
              " 'bu',\n",
              " 'buck',\n",
              " 'bud',\n",
              " 'buddi',\n",
              " 'buddy',\n",
              " 'buddycomedi',\n",
              " 'buddycop',\n",
              " 'budget',\n",
              " 'build',\n",
              " 'building',\n",
              " 'built',\n",
              " 'bullet',\n",
              " 'bulli',\n",
              " 'bumbl',\n",
              " 'bunch',\n",
              " 'bunker',\n",
              " 'bunni',\n",
              " 'burglar',\n",
              " 'buri',\n",
              " 'burn',\n",
              " 'bush',\n",
              " 'busi',\n",
              " 'business',\n",
              " 'businessman',\n",
              " 'bust',\n",
              " 'butcher',\n",
              " 'butler',\n",
              " 'butt',\n",
              " 'button',\n",
              " 'buy',\n",
              " 'buzz',\n",
              " 'cabin',\n",
              " 'caesar',\n",
              " 'cage',\n",
              " 'cairo',\n",
              " 'cal',\n",
              " 'california',\n",
              " 'calvin',\n",
              " 'camcord',\n",
              " 'came',\n",
              " 'camera',\n",
              " 'cameraman',\n",
              " 'camerondiaz',\n",
              " 'camp',\n",
              " 'campaign',\n",
              " 'campbell',\n",
              " 'campu',\n",
              " 'canada',\n",
              " 'canadian',\n",
              " 'cancer',\n",
              " 'candi',\n",
              " 'candid',\n",
              " 'canin',\n",
              " 'cannib',\n",
              " 'canuxploit',\n",
              " 'capabl',\n",
              " 'caper',\n",
              " 'capit',\n",
              " 'capt',\n",
              " 'captain',\n",
              " 'captiv',\n",
              " 'captur',\n",
              " 'capture',\n",
              " 'car',\n",
              " 'caraccid',\n",
              " 'carchas',\n",
              " 'carcrash',\n",
              " 'card',\n",
              " 'care',\n",
              " 'career',\n",
              " 'carefre',\n",
              " 'caretak',\n",
              " 'careymulligan',\n",
              " 'caribbean',\n",
              " 'carjourney',\n",
              " 'carl',\n",
              " 'carlagugino',\n",
              " 'carmen',\n",
              " 'carol',\n",
              " 'carolina',\n",
              " 'carrac',\n",
              " 'carri',\n",
              " 'carrie',\n",
              " 'cartel',\n",
              " 'carter',\n",
              " 'cartoon',\n",
              " 'caryelw',\n",
              " 'case',\n",
              " 'caseyaffleck',\n",
              " 'cash',\n",
              " 'casino',\n",
              " 'cast',\n",
              " 'castl',\n",
              " 'cat',\n",
              " 'cataclysm',\n",
              " 'catastroph',\n",
              " 'catch',\n",
              " 'cateblanchett',\n",
              " 'catherinedeneuv',\n",
              " 'catherinekeen',\n",
              " 'catherinezeta',\n",
              " 'cathol',\n",
              " 'catholic',\n",
              " 'cattl',\n",
              " 'caught',\n",
              " 'caus',\n",
              " 'cavalri',\n",
              " 'cave',\n",
              " 'cavemen',\n",
              " 'celebr',\n",
              " 'celebration',\n",
              " 'cell',\n",
              " 'cellphon',\n",
              " 'cemeteri',\n",
              " 'center',\n",
              " 'centr',\n",
              " 'central',\n",
              " 'centuri',\n",
              " 'centuries',\n",
              " 'century',\n",
              " 'ceo',\n",
              " 'certain',\n",
              " 'chad',\n",
              " 'chain',\n",
              " 'chainsaw',\n",
              " 'challeng',\n",
              " 'chamber',\n",
              " 'champion',\n",
              " 'championship',\n",
              " 'chanc',\n",
              " 'chance',\n",
              " 'chang',\n",
              " 'change',\n",
              " 'changed',\n",
              " 'changes',\n",
              " 'channingtatum',\n",
              " 'chao',\n",
              " 'chaos',\n",
              " 'chaotic',\n",
              " 'chapter',\n",
              " 'charact',\n",
              " 'character',\n",
              " 'characters',\n",
              " 'charg',\n",
              " 'charismat',\n",
              " 'charl',\n",
              " 'charli',\n",
              " 'charlie',\n",
              " 'charliesheen',\n",
              " 'charlizetheron',\n",
              " 'charm',\n",
              " 'chart',\n",
              " 'chase',\n",
              " 'chauffeur',\n",
              " 'chazzpalminteri',\n",
              " 'cheat',\n",
              " 'check',\n",
              " 'cheerlead',\n",
              " 'chef',\n",
              " 'chemic',\n",
              " 'cher',\n",
              " 'chevychas',\n",
              " 'chicago',\n",
              " 'chicken',\n",
              " 'chief',\n",
              " 'child',\n",
              " 'childabus',\n",
              " 'childhero',\n",
              " 'childhood',\n",
              " 'childprodigi',\n",
              " 'children',\n",
              " 'chill',\n",
              " 'chimp',\n",
              " 'china',\n",
              " 'chines',\n",
              " 'chip',\n",
              " 'chipmunk',\n",
              " 'chiwetelejiofor',\n",
              " 'chloe',\n",
              " 'chloëgracemoretz',\n",
              " 'chloësevigni',\n",
              " 'chocol',\n",
              " 'choic',\n",
              " 'choice',\n",
              " 'choos',\n",
              " 'chosen',\n",
              " 'chowyun',\n",
              " 'chri',\n",
              " 'chriscolumbu',\n",
              " 'chriscoop',\n",
              " 'chrisevan',\n",
              " 'chrishemsworth',\n",
              " 'chrisklein',\n",
              " 'chrispin',\n",
              " 'chrisrock',\n",
              " 'christ',\n",
              " 'christian',\n",
              " 'christianbal',\n",
              " 'christianslat',\n",
              " 'christin',\n",
              " 'christinaappleg',\n",
              " 'christinaricci',\n",
              " 'christma',\n",
              " 'christmas',\n",
              " 'christmasparti',\n",
              " 'christmastre',\n",
              " 'christoph',\n",
              " 'christopherlambert',\n",
              " 'christopherlloyd',\n",
              " 'christophernolan',\n",
              " 'christopherplumm',\n",
              " 'christopherwalken',\n",
              " 'christophwaltz',\n",
              " 'chrisweitz',\n",
              " 'chronicl',\n",
              " 'chuck',\n",
              " 'church',\n",
              " 'cia',\n",
              " 'ciaránhind',\n",
              " 'cigarettesmok',\n",
              " 'cillianmurphi',\n",
              " 'cinema',\n",
              " 'circl',\n",
              " 'circu',\n",
              " 'circuit',\n",
              " 'circumst',\n",
              " 'citi',\n",
              " 'citizen',\n",
              " 'city',\n",
              " 'civil',\n",
              " 'civilian',\n",
              " 'civilwar',\n",
              " 'claim',\n",
              " 'clair',\n",
              " 'clairedan',\n",
              " 'claireforlani',\n",
              " 'clan',\n",
              " 'clark',\n",
              " 'clash',\n",
              " 'class',\n",
              " 'classdiffer',\n",
              " 'classic',\n",
              " 'classmat',\n",
              " 'classroom',\n",
              " 'claudevandamm',\n",
              " 'clay',\n",
              " 'clean',\n",
              " 'clear',\n",
              " 'clerk',\n",
              " 'clever',\n",
              " 'client',\n",
              " 'clients',\n",
              " 'cliff',\n",
              " 'climat',\n",
              " 'climb',\n",
              " 'clinteastwood',\n",
              " 'cliveowen',\n",
              " 'clock',\n",
              " 'clone',\n",
              " 'close',\n",
              " 'closer',\n",
              " 'cloud',\n",
              " 'clown',\n",
              " 'club',\n",
              " 'clue',\n",
              " 'clueless',\n",
              " 'clutch',\n",
              " 'coach',\n",
              " 'coast',\n",
              " 'cocain',\n",
              " 'code',\n",
              " 'coffin',\n",
              " 'cohen',\n",
              " 'col',\n",
              " 'cold',\n",
              " 'coldwar',\n",
              " 'cole',\n",
              " 'colin',\n",
              " 'colinfarrel',\n",
              " 'colinfirth',\n",
              " 'collaps',\n",
              " 'colleagu',\n",
              " 'collect',\n",
              " 'collector',\n",
              " 'colleg',\n",
              " 'college',\n",
              " 'collid',\n",
              " 'collis',\n",
              " 'colombia',\n",
              " 'colonel',\n",
              " 'coloni',\n",
              " 'color',\n",
              " 'colorado',\n",
              " 'coma',\n",
              " 'combat',\n",
              " 'combin',\n",
              " 'come',\n",
              " 'comeback',\n",
              " 'comed',\n",
              " 'comedi',\n",
              " 'comedian',\n",
              " 'comedy',\n",
              " 'comet',\n",
              " 'comfort',\n",
              " 'comic',\n",
              " 'coming',\n",
              " 'comingofag',\n",
              " 'comingout',\n",
              " 'command',\n",
              " 'commando',\n",
              " 'commerci',\n",
              " 'commiss',\n",
              " 'commit',\n",
              " 'common',\n",
              " 'commun',\n",
              " 'communist',\n",
              " 'community',\n",
              " 'compani',\n",
              " 'companion',\n",
              " 'company',\n",
              " 'compet',\n",
              " 'competit',\n",
              " 'competition',\n",
              " 'complet',\n",
              " 'complex',\n",
              " 'complic',\n",
              " 'compos',\n",
              " 'compuls',\n",
              " 'comput',\n",
              " 'computerviru',\n",
              " 'conan',\n",
              " 'concern',\n",
              " 'concert',\n",
              " 'concoct',\n",
              " 'condit',\n",
              " 'condition',\n",
              " 'conduct',\n",
              " 'confeder',\n",
              " 'confess',\n",
              " 'confid',\n",
              " 'confin',\n",
              " 'conflict',\n",
              " 'confront',\n",
              " 'confus',\n",
              " 'congress',\n",
              " 'conman',\n",
              " 'connect',\n",
              " 'connecticut',\n",
              " 'connel',\n",
              " 'connor',\n",
              " 'conquer',\n",
              " 'consequ',\n",
              " 'consequences',\n",
              " 'conserv',\n",
              " 'consid',\n",
              " 'conspir',\n",
              " 'conspiraci',\n",
              " 'conspiracy',\n",
              " 'constant',\n",
              " 'constantli',\n",
              " 'construct',\n",
              " 'consum',\n",
              " 'contact',\n",
              " 'contain',\n",
              " 'contemporari',\n",
              " 'contend',\n",
              " 'content',\n",
              " 'contest',\n",
              " 'continu',\n",
              " 'contract',\n",
              " 'contractor',\n",
              " 'control',\n",
              " 'controversi',\n",
              " 'convent',\n",
              " 'converg',\n",
              " 'convers',\n",
              " 'convict',\n",
              " 'convinc',\n",
              " 'cook',\n",
              " ...]"
            ]
          },
          "metadata": {},
          "execution_count": 88
        }
      ]
    },
    {
      "cell_type": "code",
      "metadata": {
        "id": "eG8Prv6fLcXn"
      },
      "source": [
        "from nltk.stem.porter import PorterStemmer\n",
        "ps=PorterStemmer()"
      ],
      "execution_count": null,
      "outputs": []
    },
    {
      "cell_type": "code",
      "metadata": {
        "colab": {
          "base_uri": "https://localhost:8080/",
          "height": 35
        },
        "id": "GeLilnvmMp_Y",
        "outputId": "74b94a3c-9ecb-4db8-d001-2af7a29bdee1"
      },
      "source": [
        "ps.stem('loved')"
      ],
      "execution_count": null,
      "outputs": [
        {
          "output_type": "execute_result",
          "data": {
            "application/vnd.google.colaboratory.intrinsic+json": {
              "type": "string"
            },
            "text/plain": [
              "'love'"
            ]
          },
          "metadata": {},
          "execution_count": 79
        }
      ]
    },
    {
      "cell_type": "code",
      "metadata": {
        "id": "pB1Lu6BqM3Z9"
      },
      "source": [
        "def stem(txt):\n",
        "  y=[]\n",
        "  for i in txt.split():\n",
        "    y.append(ps.stem(i))\n",
        "  return \" \".join(y)\n"
      ],
      "execution_count": null,
      "outputs": []
    },
    {
      "cell_type": "code",
      "metadata": {
        "colab": {
          "base_uri": "https://localhost:8080/",
          "height": 86
        },
        "id": "cJ0qS63QNaN5",
        "outputId": "ab7d4694-a7ce-4b7d-a8f6-253ebe77280e"
      },
      "source": [
        "stem(df['tags'][0])"
      ],
      "execution_count": null,
      "outputs": [
        {
          "output_type": "execute_result",
          "data": {
            "application/vnd.google.colaboratory.intrinsic+json": {
              "type": "string"
            },
            "text/plain": [
              "'in the 22nd century, a parapleg marin is dispatch to the moon pandora on a uniqu mission, but becom torn between follow order and protect an alien civilization. action adventur fantasi sciencefict cultureclash futur spacewar spacecoloni societi spacetravel futurist romanc space alien tribe alienplanet cgi marin soldier battl loveaffair antiwar powerrel mindandsoul 3d samworthington zoesaldana sigourneyweav jamescameron'"
            ]
          },
          "metadata": {},
          "execution_count": 81
        }
      ]
    },
    {
      "cell_type": "code",
      "metadata": {
        "colab": {
          "base_uri": "https://localhost:8080/"
        },
        "id": "Z6wxTspGNdsd",
        "outputId": "b903a360-0d48-4c66-e5d5-852f012b1b56"
      },
      "source": [
        "from sklearn.metrics.pairwise import cosine_similarity\n",
        "cosine_similarity(vectors).shape"
      ],
      "execution_count": null,
      "outputs": [
        {
          "output_type": "execute_result",
          "data": {
            "text/plain": [
              "(4806, 4806)"
            ]
          },
          "metadata": {},
          "execution_count": 90
        }
      ]
    },
    {
      "cell_type": "code",
      "metadata": {
        "id": "EMZSoJN9PIhp"
      },
      "source": [
        "similarity=cosine_similarity(vectors)"
      ],
      "execution_count": null,
      "outputs": []
    },
    {
      "cell_type": "code",
      "metadata": {
        "id": "sB_CuTekPff4"
      },
      "source": [
        "def recommend(movie):\n",
        "  movie_index=df[df['title'] == movie].index[0]\n",
        "  distance=similarity[movie_index]\n",
        "  movies_list=sorted(list(enumerate(distance)),reverse=True,key=lambda x:x[1])[1:6]\n",
        "  for i in movies_list:\n",
        "    print(df.iloc[i[0]].title)\n"
      ],
      "execution_count": null,
      "outputs": []
    },
    {
      "cell_type": "code",
      "metadata": {
        "colab": {
          "base_uri": "https://localhost:8080/"
        },
        "id": "sVYU1_6kQblI",
        "outputId": "c35c4007-2f11-4213-84a5-d2041ec6aa45"
      },
      "source": [
        "recommend('The Dark Knight Rises')\n",
        "\n",
        "# enumerate(similarity[0])\n",
        "# similarity[0]"
      ],
      "execution_count": null,
      "outputs": [
        {
          "output_type": "stream",
          "name": "stdout",
          "text": [
            "The Dark Knight\n",
            "Batman Returns\n",
            "Batman\n",
            "Batman Forever\n",
            "Batman Begins\n"
          ]
        }
      ]
    },
    {
      "cell_type": "code",
      "metadata": {
        "id": "6euHMJv6Qeyh"
      },
      "source": [
        "import pickle\n"
      ],
      "execution_count": null,
      "outputs": []
    },
    {
      "cell_type": "code",
      "metadata": {
        "colab": {
          "base_uri": "https://localhost:8080/",
          "height": 419
        },
        "id": "ba6bCPGnAzky",
        "outputId": "300a599c-d6c2-4b3b-ea40-ed95f82dfcc2"
      },
      "source": [
        "pd.DataFrame(df.to_dict())"
      ],
      "execution_count": null,
      "outputs": [
        {
          "output_type": "execute_result",
          "data": {
            "text/html": [
              "<div>\n",
              "<style scoped>\n",
              "    .dataframe tbody tr th:only-of-type {\n",
              "        vertical-align: middle;\n",
              "    }\n",
              "\n",
              "    .dataframe tbody tr th {\n",
              "        vertical-align: top;\n",
              "    }\n",
              "\n",
              "    .dataframe thead th {\n",
              "        text-align: right;\n",
              "    }\n",
              "</style>\n",
              "<table border=\"1\" class=\"dataframe\">\n",
              "  <thead>\n",
              "    <tr style=\"text-align: right;\">\n",
              "      <th></th>\n",
              "      <th>movie_id</th>\n",
              "      <th>title</th>\n",
              "      <th>tags</th>\n",
              "    </tr>\n",
              "  </thead>\n",
              "  <tbody>\n",
              "    <tr>\n",
              "      <th>0</th>\n",
              "      <td>19995</td>\n",
              "      <td>Avatar</td>\n",
              "      <td>in the 22nd century, a parapleg marin is dispa...</td>\n",
              "    </tr>\n",
              "    <tr>\n",
              "      <th>1</th>\n",
              "      <td>285</td>\n",
              "      <td>Pirates of the Caribbean: At World's End</td>\n",
              "      <td>captain barbossa, long believ to be dead, ha c...</td>\n",
              "    </tr>\n",
              "    <tr>\n",
              "      <th>2</th>\n",
              "      <td>206647</td>\n",
              "      <td>Spectre</td>\n",
              "      <td>a cryptic messag from bond’ past send him on a...</td>\n",
              "    </tr>\n",
              "    <tr>\n",
              "      <th>3</th>\n",
              "      <td>49026</td>\n",
              "      <td>The Dark Knight Rises</td>\n",
              "      <td>follow the death of district attorney harvey d...</td>\n",
              "    </tr>\n",
              "    <tr>\n",
              "      <th>4</th>\n",
              "      <td>49529</td>\n",
              "      <td>John Carter</td>\n",
              "      <td>john carter is a war-weary, former militari ca...</td>\n",
              "    </tr>\n",
              "    <tr>\n",
              "      <th>...</th>\n",
              "      <td>...</td>\n",
              "      <td>...</td>\n",
              "      <td>...</td>\n",
              "    </tr>\n",
              "    <tr>\n",
              "      <th>4804</th>\n",
              "      <td>9367</td>\n",
              "      <td>El Mariachi</td>\n",
              "      <td>el mariachi just want to play hi guitar and ca...</td>\n",
              "    </tr>\n",
              "    <tr>\n",
              "      <th>4805</th>\n",
              "      <td>72766</td>\n",
              "      <td>Newlyweds</td>\n",
              "      <td>a newlyw couple' honeymoon is upend by the arr...</td>\n",
              "    </tr>\n",
              "    <tr>\n",
              "      <th>4806</th>\n",
              "      <td>231617</td>\n",
              "      <td>Signed, Sealed, Delivered</td>\n",
              "      <td>\"signed, sealed, delivered\" introduc a dedic q...</td>\n",
              "    </tr>\n",
              "    <tr>\n",
              "      <th>4807</th>\n",
              "      <td>126186</td>\n",
              "      <td>Shanghai Calling</td>\n",
              "      <td>when ambiti new york attorney sam is sent to s...</td>\n",
              "    </tr>\n",
              "    <tr>\n",
              "      <th>4808</th>\n",
              "      <td>25975</td>\n",
              "      <td>My Date with Drew</td>\n",
              "      <td>ever sinc the second grade when he first saw h...</td>\n",
              "    </tr>\n",
              "  </tbody>\n",
              "</table>\n",
              "<p>4806 rows × 3 columns</p>\n",
              "</div>"
            ],
            "text/plain": [
              "      movie_id  ...                                               tags\n",
              "0        19995  ...  in the 22nd century, a parapleg marin is dispa...\n",
              "1          285  ...  captain barbossa, long believ to be dead, ha c...\n",
              "2       206647  ...  a cryptic messag from bond’ past send him on a...\n",
              "3        49026  ...  follow the death of district attorney harvey d...\n",
              "4        49529  ...  john carter is a war-weary, former militari ca...\n",
              "...        ...  ...                                                ...\n",
              "4804      9367  ...  el mariachi just want to play hi guitar and ca...\n",
              "4805     72766  ...  a newlyw couple' honeymoon is upend by the arr...\n",
              "4806    231617  ...  \"signed, sealed, delivered\" introduc a dedic q...\n",
              "4807    126186  ...  when ambiti new york attorney sam is sent to s...\n",
              "4808     25975  ...  ever sinc the second grade when he first saw h...\n",
              "\n",
              "[4806 rows x 3 columns]"
            ]
          },
          "metadata": {},
          "execution_count": 134
        }
      ]
    },
    {
      "cell_type": "code",
      "metadata": {
        "id": "xl1Q01fGTsy0"
      },
      "source": [
        "pickle.dump(df.to_dict(),open('movies_dict.pkl','wb'))"
      ],
      "execution_count": null,
      "outputs": []
    },
    {
      "cell_type": "code",
      "metadata": {
        "id": "G5r-XYY8T7Az"
      },
      "source": [
        "pickle.dump(similarity,open('similarity.pkl','wb'))"
      ],
      "execution_count": null,
      "outputs": []
    },
    {
      "cell_type": "code",
      "metadata": {
        "colab": {
          "base_uri": "https://localhost:8080/"
        },
        "id": "r41LeStCUyHy",
        "outputId": "c9a8af35-115d-4da0-a14f-bbbff213bb79"
      },
      "source": [
        "pd.read_csv('Data for repository.csv').columns"
      ],
      "execution_count": null,
      "outputs": [
        {
          "output_type": "execute_result",
          "data": {
            "text/plain": [
              "Index(['Movie Name', 'Release Period', 'Whether Remake', 'Whether Franchise',\n",
              "       'Genre', 'New Actor', 'New Director', 'New Music Director', 'Lead Star',\n",
              "       'Director', 'Music Director', 'Number of Screens', 'Revenue(INR)',\n",
              "       'Budget(INR)'],\n",
              "      dtype='object')"
            ]
          },
          "metadata": {},
          "execution_count": 132
        }
      ]
    },
    {
      "cell_type": "code",
      "metadata": {
        "id": "xSECZtBMcUXX"
      },
      "source": [
        ""
      ],
      "execution_count": null,
      "outputs": []
    }
  ]
}